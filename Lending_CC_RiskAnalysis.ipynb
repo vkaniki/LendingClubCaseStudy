{
 "cells": [
  {
   "cell_type": "code",
   "execution_count": 357,
   "id": "3a67d248",
   "metadata": {},
   "outputs": [],
   "source": [
    "#Import Required Libraries \n",
    "\n",
    "import pandas as pd\n",
    "import numpy as np\n",
    "from IPython.display import display\n",
    "import matplotlib.pyplot as plt\n",
    "import seaborn as sns\n",
    "import datetime as dt\n",
    "import warnings\n",
    "import missingno as msno\n",
    "import zipcodes as zc\n",
    "import plotly as py\n",
    "import plotly.graph_objs as go\n",
    "import math"
   ]
  },
  {
   "cell_type": "code",
   "execution_count": 358,
   "id": "382d8969",
   "metadata": {},
   "outputs": [],
   "source": [
    "# Set the session options\n",
    "%matplotlib inline\n",
    "pd.options.display.max_columns = None\n",
    "#pd.options.display.max_rows = None\n",
    "warnings.filterwarnings(\"ignore\")\n",
    "pd.options.display.float_format = '{:,.2f}'.format"
   ]
  },
  {
   "cell_type": "code",
   "execution_count": 359,
   "id": "e4204c1b",
   "metadata": {},
   "outputs": [],
   "source": [
    "# Read file and let Python detect the variable types at the cost of memory, rather than guessing the dtypes.\n",
    "loan=pd.read_csv(r'loan.csv',low_memory=False)"
   ]
  },
  {
   "cell_type": "markdown",
   "id": "f3faff23",
   "metadata": {},
   "source": [
    "# Data Cleaning "
   ]
  },
  {
   "cell_type": "markdown",
   "id": "04f3de0a",
   "metadata": {},
   "source": [
    "This section covers the Data Cleaning actions. The following is the high level Data cleaning approach -\n",
    "\n",
    "* Remove all the columns that have no data.\n",
    "* Remove all the rows that have no data.\n",
    "* Remove all the columns that have single unique value.\n",
    "* Remove all the columns that have NaNs in atleast 1/3rd of the total rows.\n",
    "* Investigate each column and cleanse the data or delete as appropriate."
   ]
  },
  {
   "cell_type": "code",
   "execution_count": 360,
   "id": "f565a47a",
   "metadata": {},
   "outputs": [
    {
     "name": "stdout",
     "output_type": "stream",
     "text": [
      "(39717, 111)\n"
     ]
    },
    {
     "data": {
      "text/html": [
       "<div>\n",
       "<style scoped>\n",
       "    .dataframe tbody tr th:only-of-type {\n",
       "        vertical-align: middle;\n",
       "    }\n",
       "\n",
       "    .dataframe tbody tr th {\n",
       "        vertical-align: top;\n",
       "    }\n",
       "\n",
       "    .dataframe thead th {\n",
       "        text-align: right;\n",
       "    }\n",
       "</style>\n",
       "<table border=\"1\" class=\"dataframe\">\n",
       "  <thead>\n",
       "    <tr style=\"text-align: right;\">\n",
       "      <th></th>\n",
       "      <th>id</th>\n",
       "      <th>member_id</th>\n",
       "      <th>loan_amnt</th>\n",
       "      <th>funded_amnt</th>\n",
       "      <th>funded_amnt_inv</th>\n",
       "      <th>term</th>\n",
       "      <th>int_rate</th>\n",
       "      <th>installment</th>\n",
       "      <th>grade</th>\n",
       "      <th>sub_grade</th>\n",
       "      <th>emp_title</th>\n",
       "      <th>emp_length</th>\n",
       "      <th>home_ownership</th>\n",
       "      <th>annual_inc</th>\n",
       "      <th>verification_status</th>\n",
       "      <th>issue_d</th>\n",
       "      <th>loan_status</th>\n",
       "      <th>pymnt_plan</th>\n",
       "      <th>url</th>\n",
       "      <th>desc</th>\n",
       "      <th>purpose</th>\n",
       "      <th>title</th>\n",
       "      <th>zip_code</th>\n",
       "      <th>addr_state</th>\n",
       "      <th>dti</th>\n",
       "      <th>delinq_2yrs</th>\n",
       "      <th>earliest_cr_line</th>\n",
       "      <th>inq_last_6mths</th>\n",
       "      <th>mths_since_last_delinq</th>\n",
       "      <th>mths_since_last_record</th>\n",
       "      <th>open_acc</th>\n",
       "      <th>pub_rec</th>\n",
       "      <th>revol_bal</th>\n",
       "      <th>revol_util</th>\n",
       "      <th>total_acc</th>\n",
       "      <th>initial_list_status</th>\n",
       "      <th>out_prncp</th>\n",
       "      <th>out_prncp_inv</th>\n",
       "      <th>total_pymnt</th>\n",
       "      <th>total_pymnt_inv</th>\n",
       "      <th>total_rec_prncp</th>\n",
       "      <th>total_rec_int</th>\n",
       "      <th>total_rec_late_fee</th>\n",
       "      <th>recoveries</th>\n",
       "      <th>collection_recovery_fee</th>\n",
       "      <th>last_pymnt_d</th>\n",
       "      <th>last_pymnt_amnt</th>\n",
       "      <th>next_pymnt_d</th>\n",
       "      <th>last_credit_pull_d</th>\n",
       "      <th>collections_12_mths_ex_med</th>\n",
       "      <th>mths_since_last_major_derog</th>\n",
       "      <th>policy_code</th>\n",
       "      <th>application_type</th>\n",
       "      <th>annual_inc_joint</th>\n",
       "      <th>dti_joint</th>\n",
       "      <th>verification_status_joint</th>\n",
       "      <th>acc_now_delinq</th>\n",
       "      <th>tot_coll_amt</th>\n",
       "      <th>tot_cur_bal</th>\n",
       "      <th>open_acc_6m</th>\n",
       "      <th>open_il_6m</th>\n",
       "      <th>open_il_12m</th>\n",
       "      <th>open_il_24m</th>\n",
       "      <th>mths_since_rcnt_il</th>\n",
       "      <th>total_bal_il</th>\n",
       "      <th>il_util</th>\n",
       "      <th>open_rv_12m</th>\n",
       "      <th>open_rv_24m</th>\n",
       "      <th>max_bal_bc</th>\n",
       "      <th>all_util</th>\n",
       "      <th>total_rev_hi_lim</th>\n",
       "      <th>inq_fi</th>\n",
       "      <th>total_cu_tl</th>\n",
       "      <th>inq_last_12m</th>\n",
       "      <th>acc_open_past_24mths</th>\n",
       "      <th>avg_cur_bal</th>\n",
       "      <th>bc_open_to_buy</th>\n",
       "      <th>bc_util</th>\n",
       "      <th>chargeoff_within_12_mths</th>\n",
       "      <th>delinq_amnt</th>\n",
       "      <th>mo_sin_old_il_acct</th>\n",
       "      <th>mo_sin_old_rev_tl_op</th>\n",
       "      <th>mo_sin_rcnt_rev_tl_op</th>\n",
       "      <th>mo_sin_rcnt_tl</th>\n",
       "      <th>mort_acc</th>\n",
       "      <th>mths_since_recent_bc</th>\n",
       "      <th>mths_since_recent_bc_dlq</th>\n",
       "      <th>mths_since_recent_inq</th>\n",
       "      <th>mths_since_recent_revol_delinq</th>\n",
       "      <th>num_accts_ever_120_pd</th>\n",
       "      <th>num_actv_bc_tl</th>\n",
       "      <th>num_actv_rev_tl</th>\n",
       "      <th>num_bc_sats</th>\n",
       "      <th>num_bc_tl</th>\n",
       "      <th>num_il_tl</th>\n",
       "      <th>num_op_rev_tl</th>\n",
       "      <th>num_rev_accts</th>\n",
       "      <th>num_rev_tl_bal_gt_0</th>\n",
       "      <th>num_sats</th>\n",
       "      <th>num_tl_120dpd_2m</th>\n",
       "      <th>num_tl_30dpd</th>\n",
       "      <th>num_tl_90g_dpd_24m</th>\n",
       "      <th>num_tl_op_past_12m</th>\n",
       "      <th>pct_tl_nvr_dlq</th>\n",
       "      <th>percent_bc_gt_75</th>\n",
       "      <th>pub_rec_bankruptcies</th>\n",
       "      <th>tax_liens</th>\n",
       "      <th>tot_hi_cred_lim</th>\n",
       "      <th>total_bal_ex_mort</th>\n",
       "      <th>total_bc_limit</th>\n",
       "      <th>total_il_high_credit_limit</th>\n",
       "    </tr>\n",
       "  </thead>\n",
       "  <tbody>\n",
       "    <tr>\n",
       "      <th>0</th>\n",
       "      <td>1077501</td>\n",
       "      <td>1296599</td>\n",
       "      <td>5000</td>\n",
       "      <td>5000</td>\n",
       "      <td>4,975.00</td>\n",
       "      <td>36 months</td>\n",
       "      <td>10.65%</td>\n",
       "      <td>162.87</td>\n",
       "      <td>B</td>\n",
       "      <td>B2</td>\n",
       "      <td>NaN</td>\n",
       "      <td>10+ years</td>\n",
       "      <td>RENT</td>\n",
       "      <td>24,000.00</td>\n",
       "      <td>Verified</td>\n",
       "      <td>Dec-11</td>\n",
       "      <td>Fully Paid</td>\n",
       "      <td>n</td>\n",
       "      <td>https://lendingclub.com/browse/loanDetail.acti...</td>\n",
       "      <td>Borrower added on 12/22/11 &gt; I need to upgra...</td>\n",
       "      <td>credit_card</td>\n",
       "      <td>Computer</td>\n",
       "      <td>860xx</td>\n",
       "      <td>AZ</td>\n",
       "      <td>27.65</td>\n",
       "      <td>0</td>\n",
       "      <td>Jan-85</td>\n",
       "      <td>1</td>\n",
       "      <td>NaN</td>\n",
       "      <td>NaN</td>\n",
       "      <td>3</td>\n",
       "      <td>0</td>\n",
       "      <td>13648</td>\n",
       "      <td>83.70%</td>\n",
       "      <td>9</td>\n",
       "      <td>f</td>\n",
       "      <td>0.00</td>\n",
       "      <td>0.00</td>\n",
       "      <td>5,863.16</td>\n",
       "      <td>5,833.84</td>\n",
       "      <td>5,000.00</td>\n",
       "      <td>863.16</td>\n",
       "      <td>0.00</td>\n",
       "      <td>0.00</td>\n",
       "      <td>0.00</td>\n",
       "      <td>Jan-15</td>\n",
       "      <td>171.62</td>\n",
       "      <td>NaN</td>\n",
       "      <td>May-16</td>\n",
       "      <td>0.00</td>\n",
       "      <td>NaN</td>\n",
       "      <td>1</td>\n",
       "      <td>INDIVIDUAL</td>\n",
       "      <td>NaN</td>\n",
       "      <td>NaN</td>\n",
       "      <td>NaN</td>\n",
       "      <td>0</td>\n",
       "      <td>NaN</td>\n",
       "      <td>NaN</td>\n",
       "      <td>NaN</td>\n",
       "      <td>NaN</td>\n",
       "      <td>NaN</td>\n",
       "      <td>NaN</td>\n",
       "      <td>NaN</td>\n",
       "      <td>NaN</td>\n",
       "      <td>NaN</td>\n",
       "      <td>NaN</td>\n",
       "      <td>NaN</td>\n",
       "      <td>NaN</td>\n",
       "      <td>NaN</td>\n",
       "      <td>NaN</td>\n",
       "      <td>NaN</td>\n",
       "      <td>NaN</td>\n",
       "      <td>NaN</td>\n",
       "      <td>NaN</td>\n",
       "      <td>NaN</td>\n",
       "      <td>NaN</td>\n",
       "      <td>NaN</td>\n",
       "      <td>0.00</td>\n",
       "      <td>0</td>\n",
       "      <td>NaN</td>\n",
       "      <td>NaN</td>\n",
       "      <td>NaN</td>\n",
       "      <td>NaN</td>\n",
       "      <td>NaN</td>\n",
       "      <td>NaN</td>\n",
       "      <td>NaN</td>\n",
       "      <td>NaN</td>\n",
       "      <td>NaN</td>\n",
       "      <td>NaN</td>\n",
       "      <td>NaN</td>\n",
       "      <td>NaN</td>\n",
       "      <td>NaN</td>\n",
       "      <td>NaN</td>\n",
       "      <td>NaN</td>\n",
       "      <td>NaN</td>\n",
       "      <td>NaN</td>\n",
       "      <td>NaN</td>\n",
       "      <td>NaN</td>\n",
       "      <td>NaN</td>\n",
       "      <td>NaN</td>\n",
       "      <td>NaN</td>\n",
       "      <td>NaN</td>\n",
       "      <td>NaN</td>\n",
       "      <td>NaN</td>\n",
       "      <td>0.00</td>\n",
       "      <td>0.00</td>\n",
       "      <td>NaN</td>\n",
       "      <td>NaN</td>\n",
       "      <td>NaN</td>\n",
       "      <td>NaN</td>\n",
       "    </tr>\n",
       "    <tr>\n",
       "      <th>1</th>\n",
       "      <td>1077430</td>\n",
       "      <td>1314167</td>\n",
       "      <td>2500</td>\n",
       "      <td>2500</td>\n",
       "      <td>2,500.00</td>\n",
       "      <td>60 months</td>\n",
       "      <td>15.27%</td>\n",
       "      <td>59.83</td>\n",
       "      <td>C</td>\n",
       "      <td>C4</td>\n",
       "      <td>Ryder</td>\n",
       "      <td>&lt; 1 year</td>\n",
       "      <td>RENT</td>\n",
       "      <td>30,000.00</td>\n",
       "      <td>Source Verified</td>\n",
       "      <td>Dec-11</td>\n",
       "      <td>Charged Off</td>\n",
       "      <td>n</td>\n",
       "      <td>https://lendingclub.com/browse/loanDetail.acti...</td>\n",
       "      <td>Borrower added on 12/22/11 &gt; I plan to use t...</td>\n",
       "      <td>car</td>\n",
       "      <td>bike</td>\n",
       "      <td>309xx</td>\n",
       "      <td>GA</td>\n",
       "      <td>1.00</td>\n",
       "      <td>0</td>\n",
       "      <td>Apr-99</td>\n",
       "      <td>5</td>\n",
       "      <td>NaN</td>\n",
       "      <td>NaN</td>\n",
       "      <td>3</td>\n",
       "      <td>0</td>\n",
       "      <td>1687</td>\n",
       "      <td>9.40%</td>\n",
       "      <td>4</td>\n",
       "      <td>f</td>\n",
       "      <td>0.00</td>\n",
       "      <td>0.00</td>\n",
       "      <td>1,008.71</td>\n",
       "      <td>1,008.71</td>\n",
       "      <td>456.46</td>\n",
       "      <td>435.17</td>\n",
       "      <td>0.00</td>\n",
       "      <td>117.08</td>\n",
       "      <td>1.11</td>\n",
       "      <td>Apr-13</td>\n",
       "      <td>119.66</td>\n",
       "      <td>NaN</td>\n",
       "      <td>Sep-13</td>\n",
       "      <td>0.00</td>\n",
       "      <td>NaN</td>\n",
       "      <td>1</td>\n",
       "      <td>INDIVIDUAL</td>\n",
       "      <td>NaN</td>\n",
       "      <td>NaN</td>\n",
       "      <td>NaN</td>\n",
       "      <td>0</td>\n",
       "      <td>NaN</td>\n",
       "      <td>NaN</td>\n",
       "      <td>NaN</td>\n",
       "      <td>NaN</td>\n",
       "      <td>NaN</td>\n",
       "      <td>NaN</td>\n",
       "      <td>NaN</td>\n",
       "      <td>NaN</td>\n",
       "      <td>NaN</td>\n",
       "      <td>NaN</td>\n",
       "      <td>NaN</td>\n",
       "      <td>NaN</td>\n",
       "      <td>NaN</td>\n",
       "      <td>NaN</td>\n",
       "      <td>NaN</td>\n",
       "      <td>NaN</td>\n",
       "      <td>NaN</td>\n",
       "      <td>NaN</td>\n",
       "      <td>NaN</td>\n",
       "      <td>NaN</td>\n",
       "      <td>NaN</td>\n",
       "      <td>0.00</td>\n",
       "      <td>0</td>\n",
       "      <td>NaN</td>\n",
       "      <td>NaN</td>\n",
       "      <td>NaN</td>\n",
       "      <td>NaN</td>\n",
       "      <td>NaN</td>\n",
       "      <td>NaN</td>\n",
       "      <td>NaN</td>\n",
       "      <td>NaN</td>\n",
       "      <td>NaN</td>\n",
       "      <td>NaN</td>\n",
       "      <td>NaN</td>\n",
       "      <td>NaN</td>\n",
       "      <td>NaN</td>\n",
       "      <td>NaN</td>\n",
       "      <td>NaN</td>\n",
       "      <td>NaN</td>\n",
       "      <td>NaN</td>\n",
       "      <td>NaN</td>\n",
       "      <td>NaN</td>\n",
       "      <td>NaN</td>\n",
       "      <td>NaN</td>\n",
       "      <td>NaN</td>\n",
       "      <td>NaN</td>\n",
       "      <td>NaN</td>\n",
       "      <td>NaN</td>\n",
       "      <td>0.00</td>\n",
       "      <td>0.00</td>\n",
       "      <td>NaN</td>\n",
       "      <td>NaN</td>\n",
       "      <td>NaN</td>\n",
       "      <td>NaN</td>\n",
       "    </tr>\n",
       "  </tbody>\n",
       "</table>\n",
       "</div>"
      ],
      "text/plain": [
       "        id  member_id  loan_amnt  funded_amnt  funded_amnt_inv        term  \\\n",
       "0  1077501    1296599       5000         5000         4,975.00   36 months   \n",
       "1  1077430    1314167       2500         2500         2,500.00   60 months   \n",
       "\n",
       "  int_rate  installment grade sub_grade emp_title emp_length home_ownership  \\\n",
       "0   10.65%       162.87     B        B2       NaN  10+ years           RENT   \n",
       "1   15.27%        59.83     C        C4     Ryder   < 1 year           RENT   \n",
       "\n",
       "   annual_inc verification_status issue_d  loan_status pymnt_plan  \\\n",
       "0   24,000.00            Verified  Dec-11   Fully Paid          n   \n",
       "1   30,000.00     Source Verified  Dec-11  Charged Off          n   \n",
       "\n",
       "                                                 url  \\\n",
       "0  https://lendingclub.com/browse/loanDetail.acti...   \n",
       "1  https://lendingclub.com/browse/loanDetail.acti...   \n",
       "\n",
       "                                                desc      purpose     title  \\\n",
       "0    Borrower added on 12/22/11 > I need to upgra...  credit_card  Computer   \n",
       "1    Borrower added on 12/22/11 > I plan to use t...          car      bike   \n",
       "\n",
       "  zip_code addr_state   dti  delinq_2yrs earliest_cr_line  inq_last_6mths  \\\n",
       "0    860xx         AZ 27.65            0           Jan-85               1   \n",
       "1    309xx         GA  1.00            0           Apr-99               5   \n",
       "\n",
       "   mths_since_last_delinq  mths_since_last_record  open_acc  pub_rec  \\\n",
       "0                     NaN                     NaN         3        0   \n",
       "1                     NaN                     NaN         3        0   \n",
       "\n",
       "   revol_bal revol_util  total_acc initial_list_status  out_prncp  \\\n",
       "0      13648     83.70%          9                   f       0.00   \n",
       "1       1687      9.40%          4                   f       0.00   \n",
       "\n",
       "   out_prncp_inv  total_pymnt  total_pymnt_inv  total_rec_prncp  \\\n",
       "0           0.00     5,863.16         5,833.84         5,000.00   \n",
       "1           0.00     1,008.71         1,008.71           456.46   \n",
       "\n",
       "   total_rec_int  total_rec_late_fee  recoveries  collection_recovery_fee  \\\n",
       "0         863.16                0.00        0.00                     0.00   \n",
       "1         435.17                0.00      117.08                     1.11   \n",
       "\n",
       "  last_pymnt_d  last_pymnt_amnt next_pymnt_d last_credit_pull_d  \\\n",
       "0       Jan-15           171.62          NaN             May-16   \n",
       "1       Apr-13           119.66          NaN             Sep-13   \n",
       "\n",
       "   collections_12_mths_ex_med  mths_since_last_major_derog  policy_code  \\\n",
       "0                        0.00                          NaN            1   \n",
       "1                        0.00                          NaN            1   \n",
       "\n",
       "  application_type  annual_inc_joint  dti_joint  verification_status_joint  \\\n",
       "0       INDIVIDUAL               NaN        NaN                        NaN   \n",
       "1       INDIVIDUAL               NaN        NaN                        NaN   \n",
       "\n",
       "   acc_now_delinq  tot_coll_amt  tot_cur_bal  open_acc_6m  open_il_6m  \\\n",
       "0               0           NaN          NaN          NaN         NaN   \n",
       "1               0           NaN          NaN          NaN         NaN   \n",
       "\n",
       "   open_il_12m  open_il_24m  mths_since_rcnt_il  total_bal_il  il_util  \\\n",
       "0          NaN          NaN                 NaN           NaN      NaN   \n",
       "1          NaN          NaN                 NaN           NaN      NaN   \n",
       "\n",
       "   open_rv_12m  open_rv_24m  max_bal_bc  all_util  total_rev_hi_lim  inq_fi  \\\n",
       "0          NaN          NaN         NaN       NaN               NaN     NaN   \n",
       "1          NaN          NaN         NaN       NaN               NaN     NaN   \n",
       "\n",
       "   total_cu_tl  inq_last_12m  acc_open_past_24mths  avg_cur_bal  \\\n",
       "0          NaN           NaN                   NaN          NaN   \n",
       "1          NaN           NaN                   NaN          NaN   \n",
       "\n",
       "   bc_open_to_buy  bc_util  chargeoff_within_12_mths  delinq_amnt  \\\n",
       "0             NaN      NaN                      0.00            0   \n",
       "1             NaN      NaN                      0.00            0   \n",
       "\n",
       "   mo_sin_old_il_acct  mo_sin_old_rev_tl_op  mo_sin_rcnt_rev_tl_op  \\\n",
       "0                 NaN                   NaN                    NaN   \n",
       "1                 NaN                   NaN                    NaN   \n",
       "\n",
       "   mo_sin_rcnt_tl  mort_acc  mths_since_recent_bc  mths_since_recent_bc_dlq  \\\n",
       "0             NaN       NaN                   NaN                       NaN   \n",
       "1             NaN       NaN                   NaN                       NaN   \n",
       "\n",
       "   mths_since_recent_inq  mths_since_recent_revol_delinq  \\\n",
       "0                    NaN                             NaN   \n",
       "1                    NaN                             NaN   \n",
       "\n",
       "   num_accts_ever_120_pd  num_actv_bc_tl  num_actv_rev_tl  num_bc_sats  \\\n",
       "0                    NaN             NaN              NaN          NaN   \n",
       "1                    NaN             NaN              NaN          NaN   \n",
       "\n",
       "   num_bc_tl  num_il_tl  num_op_rev_tl  num_rev_accts  num_rev_tl_bal_gt_0  \\\n",
       "0        NaN        NaN            NaN            NaN                  NaN   \n",
       "1        NaN        NaN            NaN            NaN                  NaN   \n",
       "\n",
       "   num_sats  num_tl_120dpd_2m  num_tl_30dpd  num_tl_90g_dpd_24m  \\\n",
       "0       NaN               NaN           NaN                 NaN   \n",
       "1       NaN               NaN           NaN                 NaN   \n",
       "\n",
       "   num_tl_op_past_12m  pct_tl_nvr_dlq  percent_bc_gt_75  pub_rec_bankruptcies  \\\n",
       "0                 NaN             NaN               NaN                  0.00   \n",
       "1                 NaN             NaN               NaN                  0.00   \n",
       "\n",
       "   tax_liens  tot_hi_cred_lim  total_bal_ex_mort  total_bc_limit  \\\n",
       "0       0.00              NaN                NaN             NaN   \n",
       "1       0.00              NaN                NaN             NaN   \n",
       "\n",
       "   total_il_high_credit_limit  \n",
       "0                         NaN  \n",
       "1                         NaN  "
      ]
     },
     "execution_count": 360,
     "metadata": {},
     "output_type": "execute_result"
    }
   ],
   "source": [
    "# Get some idea on the data size and sample data \n",
    "print(loan.shape)\n",
    "loan.head(2)"
   ]
  },
  {
   "cell_type": "code",
   "execution_count": 361,
   "id": "13818051",
   "metadata": {},
   "outputs": [
    {
     "name": "stdout",
     "output_type": "stream",
     "text": [
      "(39717, 45)\n"
     ]
    }
   ],
   "source": [
    "# Drop columns and Rows that don't have Data or.\n",
    "loan_data=loan.dropna(axis=1,how='all')\n",
    "loan_data=loan_data.dropna(axis=0,how='all')\n",
    "\n",
    "#Drop columns that have same values in complete column\n",
    "loan_column_nonunique = loan_data.nunique().sort_values()\n",
    "unique_cols = loan_column_nonunique[loan_column_nonunique==1].index\n",
    "loan_data.drop(columns=unique_cols,axis=1,inplace=True)\n",
    "\n",
    "#Ignore columns that have atleast one-third of Nil values, \n",
    "#we get 3 columns which are having > 1/3 nill values, we are ignoring and saving in actual dataframe\n",
    "loan_data = loan_data.loc[:, (loan_data.isnull().sum(axis=0) <= len(loan_data)/3)]\n",
    "\n",
    "#Now get the final size and remaining columns\n",
    "print(loan_data.shape)"
   ]
  },
  {
   "cell_type": "code",
   "execution_count": 362,
   "id": "4d897551",
   "metadata": {
    "scrolled": true
   },
   "outputs": [
    {
     "data": {
      "text/html": [
       "<div>\n",
       "<style scoped>\n",
       "    .dataframe tbody tr th:only-of-type {\n",
       "        vertical-align: middle;\n",
       "    }\n",
       "\n",
       "    .dataframe tbody tr th {\n",
       "        vertical-align: top;\n",
       "    }\n",
       "\n",
       "    .dataframe thead th {\n",
       "        text-align: right;\n",
       "    }\n",
       "</style>\n",
       "<table border=\"1\" class=\"dataframe\">\n",
       "  <thead>\n",
       "    <tr style=\"text-align: right;\">\n",
       "      <th></th>\n",
       "      <th>emp_title</th>\n",
       "      <th>emp_length</th>\n",
       "      <th>desc</th>\n",
       "      <th>title</th>\n",
       "      <th>revol_util</th>\n",
       "      <th>last_pymnt_d</th>\n",
       "      <th>last_credit_pull_d</th>\n",
       "      <th>pub_rec_bankruptcies</th>\n",
       "    </tr>\n",
       "  </thead>\n",
       "  <tbody>\n",
       "    <tr>\n",
       "      <th>0</th>\n",
       "      <td>NaN</td>\n",
       "      <td>10+ years</td>\n",
       "      <td>Borrower added on 12/22/11 &gt; I need to upgra...</td>\n",
       "      <td>Computer</td>\n",
       "      <td>83.70%</td>\n",
       "      <td>Jan-15</td>\n",
       "      <td>May-16</td>\n",
       "      <td>0.00</td>\n",
       "    </tr>\n",
       "    <tr>\n",
       "      <th>1</th>\n",
       "      <td>Ryder</td>\n",
       "      <td>&lt; 1 year</td>\n",
       "      <td>Borrower added on 12/22/11 &gt; I plan to use t...</td>\n",
       "      <td>bike</td>\n",
       "      <td>9.40%</td>\n",
       "      <td>Apr-13</td>\n",
       "      <td>Sep-13</td>\n",
       "      <td>0.00</td>\n",
       "    </tr>\n",
       "  </tbody>\n",
       "</table>\n",
       "</div>"
      ],
      "text/plain": [
       "  emp_title emp_length                                               desc  \\\n",
       "0       NaN  10+ years    Borrower added on 12/22/11 > I need to upgra...   \n",
       "1     Ryder   < 1 year    Borrower added on 12/22/11 > I plan to use t...   \n",
       "\n",
       "      title revol_util last_pymnt_d last_credit_pull_d  pub_rec_bankruptcies  \n",
       "0  Computer     83.70%       Jan-15             May-16                  0.00  \n",
       "1      bike      9.40%       Apr-13             Sep-13                  0.00  "
      ]
     },
     "execution_count": 362,
     "metadata": {},
     "output_type": "execute_result"
    }
   ],
   "source": [
    "\n",
    "# Check the distribution of NaN across the columns\n",
    "loan_data[loan_data.columns[loan_data.isnull().any()]].head(2)"
   ]
  },
  {
   "cell_type": "code",
   "execution_count": 363,
   "id": "bdcc9ece",
   "metadata": {},
   "outputs": [
    {
     "data": {
      "text/plain": [
       "<AxesSubplot:>"
      ]
     },
     "execution_count": 363,
     "metadata": {},
     "output_type": "execute_result"
    },
    {
     "data": {
      "image/png": "[encoded data removed]",
      "text/plain": [
       "<Figure size 1800x720 with 2 Axes>"
      ]
     },
     "metadata": {
      "needs_background": "light"
     },
     "output_type": "display_data"
    }
   ],
   "source": [
    "msno.matrix(loan_data)"
   ]
  },
  {
   "cell_type": "markdown",
   "id": "4d5269fa",
   "metadata": {},
   "source": [
    "Now clean and treat each variable in the data set"
   ]
  },
  {
   "cell_type": "code",
   "execution_count": 364,
   "id": "06d25fd0",
   "metadata": {},
   "outputs": [
    {
     "data": {
      "text/html": [
       "<div>\n",
       "<style scoped>\n",
       "    .dataframe tbody tr th:only-of-type {\n",
       "        vertical-align: middle;\n",
       "    }\n",
       "\n",
       "    .dataframe tbody tr th {\n",
       "        vertical-align: top;\n",
       "    }\n",
       "\n",
       "    .dataframe thead th {\n",
       "        text-align: right;\n",
       "    }\n",
       "</style>\n",
       "<table border=\"1\" class=\"dataframe\">\n",
       "  <thead>\n",
       "    <tr style=\"text-align: right;\">\n",
       "      <th></th>\n",
       "      <th>id</th>\n",
       "      <th>member_id</th>\n",
       "      <th>loan_amnt</th>\n",
       "      <th>funded_amnt</th>\n",
       "      <th>funded_amnt_inv</th>\n",
       "      <th>installment</th>\n",
       "      <th>annual_inc</th>\n",
       "      <th>dti</th>\n",
       "      <th>delinq_2yrs</th>\n",
       "      <th>inq_last_6mths</th>\n",
       "      <th>open_acc</th>\n",
       "      <th>pub_rec</th>\n",
       "      <th>revol_bal</th>\n",
       "      <th>total_acc</th>\n",
       "      <th>out_prncp</th>\n",
       "      <th>out_prncp_inv</th>\n",
       "      <th>total_pymnt</th>\n",
       "      <th>total_pymnt_inv</th>\n",
       "      <th>total_rec_prncp</th>\n",
       "      <th>total_rec_int</th>\n",
       "      <th>total_rec_late_fee</th>\n",
       "      <th>recoveries</th>\n",
       "      <th>collection_recovery_fee</th>\n",
       "      <th>last_pymnt_amnt</th>\n",
       "      <th>pub_rec_bankruptcies</th>\n",
       "    </tr>\n",
       "  </thead>\n",
       "  <tbody>\n",
       "    <tr>\n",
       "      <th>count</th>\n",
       "      <td>39,717.00</td>\n",
       "      <td>39,717.00</td>\n",
       "      <td>39,717.00</td>\n",
       "      <td>39,717.00</td>\n",
       "      <td>39,717.00</td>\n",
       "      <td>39,717.00</td>\n",
       "      <td>39,717.00</td>\n",
       "      <td>39,717.00</td>\n",
       "      <td>39,717.00</td>\n",
       "      <td>39,717.00</td>\n",
       "      <td>39,717.00</td>\n",
       "      <td>39,717.00</td>\n",
       "      <td>39,717.00</td>\n",
       "      <td>39,717.00</td>\n",
       "      <td>39,717.00</td>\n",
       "      <td>39,717.00</td>\n",
       "      <td>39,717.00</td>\n",
       "      <td>39,717.00</td>\n",
       "      <td>39,717.00</td>\n",
       "      <td>39,717.00</td>\n",
       "      <td>39,717.00</td>\n",
       "      <td>39,717.00</td>\n",
       "      <td>39,717.00</td>\n",
       "      <td>39,717.00</td>\n",
       "      <td>39,020.00</td>\n",
       "    </tr>\n",
       "    <tr>\n",
       "      <th>mean</th>\n",
       "      <td>683,131.91</td>\n",
       "      <td>850,463.56</td>\n",
       "      <td>11,219.44</td>\n",
       "      <td>10,947.71</td>\n",
       "      <td>10,397.45</td>\n",
       "      <td>324.56</td>\n",
       "      <td>68,968.93</td>\n",
       "      <td>13.32</td>\n",
       "      <td>0.15</td>\n",
       "      <td>0.87</td>\n",
       "      <td>9.29</td>\n",
       "      <td>0.06</td>\n",
       "      <td>13,382.53</td>\n",
       "      <td>22.09</td>\n",
       "      <td>51.23</td>\n",
       "      <td>50.99</td>\n",
       "      <td>12,153.60</td>\n",
       "      <td>11,567.15</td>\n",
       "      <td>9,793.35</td>\n",
       "      <td>2,263.66</td>\n",
       "      <td>1.36</td>\n",
       "      <td>95.22</td>\n",
       "      <td>12.41</td>\n",
       "      <td>2,678.83</td>\n",
       "      <td>0.04</td>\n",
       "    </tr>\n",
       "    <tr>\n",
       "      <th>std</th>\n",
       "      <td>210,694.13</td>\n",
       "      <td>265,678.31</td>\n",
       "      <td>7,456.67</td>\n",
       "      <td>7,187.24</td>\n",
       "      <td>7,128.45</td>\n",
       "      <td>208.87</td>\n",
       "      <td>63,793.77</td>\n",
       "      <td>6.68</td>\n",
       "      <td>0.49</td>\n",
       "      <td>1.07</td>\n",
       "      <td>4.40</td>\n",
       "      <td>0.24</td>\n",
       "      <td>15,885.02</td>\n",
       "      <td>11.40</td>\n",
       "      <td>375.17</td>\n",
       "      <td>373.82</td>\n",
       "      <td>9,042.04</td>\n",
       "      <td>8,942.67</td>\n",
       "      <td>7,065.52</td>\n",
       "      <td>2,608.11</td>\n",
       "      <td>7.29</td>\n",
       "      <td>688.74</td>\n",
       "      <td>148.67</td>\n",
       "      <td>4,447.14</td>\n",
       "      <td>0.20</td>\n",
       "    </tr>\n",
       "    <tr>\n",
       "      <th>min</th>\n",
       "      <td>54,734.00</td>\n",
       "      <td>70,699.00</td>\n",
       "      <td>500.00</td>\n",
       "      <td>500.00</td>\n",
       "      <td>0.00</td>\n",
       "      <td>15.69</td>\n",
       "      <td>4,000.00</td>\n",
       "      <td>0.00</td>\n",
       "      <td>0.00</td>\n",
       "      <td>0.00</td>\n",
       "      <td>2.00</td>\n",
       "      <td>0.00</td>\n",
       "      <td>0.00</td>\n",
       "      <td>2.00</td>\n",
       "      <td>0.00</td>\n",
       "      <td>0.00</td>\n",
       "      <td>0.00</td>\n",
       "      <td>0.00</td>\n",
       "      <td>0.00</td>\n",
       "      <td>0.00</td>\n",
       "      <td>0.00</td>\n",
       "      <td>0.00</td>\n",
       "      <td>0.00</td>\n",
       "      <td>0.00</td>\n",
       "      <td>0.00</td>\n",
       "    </tr>\n",
       "    <tr>\n",
       "      <th>25%</th>\n",
       "      <td>516,221.00</td>\n",
       "      <td>666,780.00</td>\n",
       "      <td>5,500.00</td>\n",
       "      <td>5,400.00</td>\n",
       "      <td>5,000.00</td>\n",
       "      <td>167.02</td>\n",
       "      <td>40,404.00</td>\n",
       "      <td>8.17</td>\n",
       "      <td>0.00</td>\n",
       "      <td>0.00</td>\n",
       "      <td>6.00</td>\n",
       "      <td>0.00</td>\n",
       "      <td>3,703.00</td>\n",
       "      <td>13.00</td>\n",
       "      <td>0.00</td>\n",
       "      <td>0.00</td>\n",
       "      <td>5,576.93</td>\n",
       "      <td>5,112.31</td>\n",
       "      <td>4,600.00</td>\n",
       "      <td>662.18</td>\n",
       "      <td>0.00</td>\n",
       "      <td>0.00</td>\n",
       "      <td>0.00</td>\n",
       "      <td>218.68</td>\n",
       "      <td>0.00</td>\n",
       "    </tr>\n",
       "    <tr>\n",
       "      <th>50%</th>\n",
       "      <td>665,665.00</td>\n",
       "      <td>850,812.00</td>\n",
       "      <td>10,000.00</td>\n",
       "      <td>9,600.00</td>\n",
       "      <td>8,975.00</td>\n",
       "      <td>280.22</td>\n",
       "      <td>59,000.00</td>\n",
       "      <td>13.40</td>\n",
       "      <td>0.00</td>\n",
       "      <td>1.00</td>\n",
       "      <td>9.00</td>\n",
       "      <td>0.00</td>\n",
       "      <td>8,850.00</td>\n",
       "      <td>20.00</td>\n",
       "      <td>0.00</td>\n",
       "      <td>0.00</td>\n",
       "      <td>9,899.64</td>\n",
       "      <td>9,287.15</td>\n",
       "      <td>8,000.00</td>\n",
       "      <td>1,348.91</td>\n",
       "      <td>0.00</td>\n",
       "      <td>0.00</td>\n",
       "      <td>0.00</td>\n",
       "      <td>546.14</td>\n",
       "      <td>0.00</td>\n",
       "    </tr>\n",
       "    <tr>\n",
       "      <th>75%</th>\n",
       "      <td>837,755.00</td>\n",
       "      <td>1,047,339.00</td>\n",
       "      <td>15,000.00</td>\n",
       "      <td>15,000.00</td>\n",
       "      <td>14,400.00</td>\n",
       "      <td>430.78</td>\n",
       "      <td>82,300.00</td>\n",
       "      <td>18.60</td>\n",
       "      <td>0.00</td>\n",
       "      <td>1.00</td>\n",
       "      <td>12.00</td>\n",
       "      <td>0.00</td>\n",
       "      <td>17,058.00</td>\n",
       "      <td>29.00</td>\n",
       "      <td>0.00</td>\n",
       "      <td>0.00</td>\n",
       "      <td>16,534.43</td>\n",
       "      <td>15,798.81</td>\n",
       "      <td>13,653.26</td>\n",
       "      <td>2,833.40</td>\n",
       "      <td>0.00</td>\n",
       "      <td>0.00</td>\n",
       "      <td>0.00</td>\n",
       "      <td>3,293.16</td>\n",
       "      <td>0.00</td>\n",
       "    </tr>\n",
       "    <tr>\n",
       "      <th>max</th>\n",
       "      <td>1,077,501.00</td>\n",
       "      <td>1,314,167.00</td>\n",
       "      <td>35,000.00</td>\n",
       "      <td>35,000.00</td>\n",
       "      <td>35,000.00</td>\n",
       "      <td>1,305.19</td>\n",
       "      <td>6,000,000.00</td>\n",
       "      <td>29.99</td>\n",
       "      <td>11.00</td>\n",
       "      <td>8.00</td>\n",
       "      <td>44.00</td>\n",
       "      <td>4.00</td>\n",
       "      <td>149,588.00</td>\n",
       "      <td>90.00</td>\n",
       "      <td>6,311.47</td>\n",
       "      <td>6,307.37</td>\n",
       "      <td>58,563.68</td>\n",
       "      <td>58,563.68</td>\n",
       "      <td>35,000.02</td>\n",
       "      <td>23,563.68</td>\n",
       "      <td>180.20</td>\n",
       "      <td>29,623.35</td>\n",
       "      <td>7,002.19</td>\n",
       "      <td>36,115.20</td>\n",
       "      <td>2.00</td>\n",
       "    </tr>\n",
       "  </tbody>\n",
       "</table>\n",
       "</div>"
      ],
      "text/plain": [
       "                id    member_id  loan_amnt  funded_amnt  funded_amnt_inv  \\\n",
       "count    39,717.00    39,717.00  39,717.00    39,717.00        39,717.00   \n",
       "mean    683,131.91   850,463.56  11,219.44    10,947.71        10,397.45   \n",
       "std     210,694.13   265,678.31   7,456.67     7,187.24         7,128.45   \n",
       "min      54,734.00    70,699.00     500.00       500.00             0.00   \n",
       "25%     516,221.00   666,780.00   5,500.00     5,400.00         5,000.00   \n",
       "50%     665,665.00   850,812.00  10,000.00     9,600.00         8,975.00   \n",
       "75%     837,755.00 1,047,339.00  15,000.00    15,000.00        14,400.00   \n",
       "max   1,077,501.00 1,314,167.00  35,000.00    35,000.00        35,000.00   \n",
       "\n",
       "       installment   annual_inc       dti  delinq_2yrs  inq_last_6mths  \\\n",
       "count    39,717.00    39,717.00 39,717.00    39,717.00       39,717.00   \n",
       "mean        324.56    68,968.93     13.32         0.15            0.87   \n",
       "std         208.87    63,793.77      6.68         0.49            1.07   \n",
       "min          15.69     4,000.00      0.00         0.00            0.00   \n",
       "25%         167.02    40,404.00      8.17         0.00            0.00   \n",
       "50%         280.22    59,000.00     13.40         0.00            1.00   \n",
       "75%         430.78    82,300.00     18.60         0.00            1.00   \n",
       "max       1,305.19 6,000,000.00     29.99        11.00            8.00   \n",
       "\n",
       "       open_acc   pub_rec  revol_bal  total_acc  out_prncp  out_prncp_inv  \\\n",
       "count 39,717.00 39,717.00  39,717.00  39,717.00  39,717.00      39,717.00   \n",
       "mean       9.29      0.06  13,382.53      22.09      51.23          50.99   \n",
       "std        4.40      0.24  15,885.02      11.40     375.17         373.82   \n",
       "min        2.00      0.00       0.00       2.00       0.00           0.00   \n",
       "25%        6.00      0.00   3,703.00      13.00       0.00           0.00   \n",
       "50%        9.00      0.00   8,850.00      20.00       0.00           0.00   \n",
       "75%       12.00      0.00  17,058.00      29.00       0.00           0.00   \n",
       "max       44.00      4.00 149,588.00      90.00   6,311.47       6,307.37   \n",
       "\n",
       "       total_pymnt  total_pymnt_inv  total_rec_prncp  total_rec_int  \\\n",
       "count    39,717.00        39,717.00        39,717.00      39,717.00   \n",
       "mean     12,153.60        11,567.15         9,793.35       2,263.66   \n",
       "std       9,042.04         8,942.67         7,065.52       2,608.11   \n",
       "min           0.00             0.00             0.00           0.00   \n",
       "25%       5,576.93         5,112.31         4,600.00         662.18   \n",
       "50%       9,899.64         9,287.15         8,000.00       1,348.91   \n",
       "75%      16,534.43        15,798.81        13,653.26       2,833.40   \n",
       "max      58,563.68        58,563.68        35,000.02      23,563.68   \n",
       "\n",
       "       total_rec_late_fee  recoveries  collection_recovery_fee  \\\n",
       "count           39,717.00   39,717.00                39,717.00   \n",
       "mean                 1.36       95.22                    12.41   \n",
       "std                  7.29      688.74                   148.67   \n",
       "min                  0.00        0.00                     0.00   \n",
       "25%                  0.00        0.00                     0.00   \n",
       "50%                  0.00        0.00                     0.00   \n",
       "75%                  0.00        0.00                     0.00   \n",
       "max                180.20   29,623.35                 7,002.19   \n",
       "\n",
       "       last_pymnt_amnt  pub_rec_bankruptcies  \n",
       "count        39,717.00             39,020.00  \n",
       "mean          2,678.83                  0.04  \n",
       "std           4,447.14                  0.20  \n",
       "min               0.00                  0.00  \n",
       "25%             218.68                  0.00  \n",
       "50%             546.14                  0.00  \n",
       "75%           3,293.16                  0.00  \n",
       "max          36,115.20                  2.00  "
      ]
     },
     "execution_count": 364,
     "metadata": {},
     "output_type": "execute_result"
    }
   ],
   "source": [
    "loan_data.describe()"
   ]
  },
  {
   "cell_type": "code",
   "execution_count": 365,
   "id": "c083cdbe",
   "metadata": {},
   "outputs": [
    {
     "data": {
      "text/html": [
       "<div>\n",
       "<style scoped>\n",
       "    .dataframe tbody tr th:only-of-type {\n",
       "        vertical-align: middle;\n",
       "    }\n",
       "\n",
       "    .dataframe tbody tr th {\n",
       "        vertical-align: top;\n",
       "    }\n",
       "\n",
       "    .dataframe thead th {\n",
       "        text-align: right;\n",
       "    }\n",
       "</style>\n",
       "<table border=\"1\" class=\"dataframe\">\n",
       "  <thead>\n",
       "    <tr style=\"text-align: right;\">\n",
       "      <th></th>\n",
       "      <th>id</th>\n",
       "      <th>member_id</th>\n",
       "      <th>loan_amnt</th>\n",
       "      <th>funded_amnt</th>\n",
       "      <th>funded_amnt_inv</th>\n",
       "      <th>term</th>\n",
       "      <th>int_rate</th>\n",
       "      <th>installment</th>\n",
       "      <th>grade</th>\n",
       "      <th>sub_grade</th>\n",
       "      <th>emp_title</th>\n",
       "      <th>emp_length</th>\n",
       "      <th>home_ownership</th>\n",
       "      <th>annual_inc</th>\n",
       "      <th>verification_status</th>\n",
       "      <th>issue_d</th>\n",
       "      <th>loan_status</th>\n",
       "      <th>url</th>\n",
       "      <th>desc</th>\n",
       "      <th>purpose</th>\n",
       "      <th>title</th>\n",
       "      <th>zip_code</th>\n",
       "      <th>addr_state</th>\n",
       "      <th>dti</th>\n",
       "      <th>delinq_2yrs</th>\n",
       "      <th>earliest_cr_line</th>\n",
       "      <th>inq_last_6mths</th>\n",
       "      <th>open_acc</th>\n",
       "      <th>pub_rec</th>\n",
       "      <th>revol_bal</th>\n",
       "      <th>revol_util</th>\n",
       "      <th>total_acc</th>\n",
       "      <th>out_prncp</th>\n",
       "      <th>out_prncp_inv</th>\n",
       "      <th>total_pymnt</th>\n",
       "      <th>total_pymnt_inv</th>\n",
       "      <th>total_rec_prncp</th>\n",
       "      <th>total_rec_int</th>\n",
       "      <th>total_rec_late_fee</th>\n",
       "      <th>recoveries</th>\n",
       "      <th>collection_recovery_fee</th>\n",
       "      <th>last_pymnt_d</th>\n",
       "      <th>last_pymnt_amnt</th>\n",
       "      <th>last_credit_pull_d</th>\n",
       "      <th>pub_rec_bankruptcies</th>\n",
       "    </tr>\n",
       "  </thead>\n",
       "  <tbody>\n",
       "  </tbody>\n",
       "</table>\n",
       "</div>"
      ],
      "text/plain": [
       "Empty DataFrame\n",
       "Columns: [id, member_id, loan_amnt, funded_amnt, funded_amnt_inv, term, int_rate, installment, grade, sub_grade, emp_title, emp_length, home_ownership, annual_inc, verification_status, issue_d, loan_status, url, desc, purpose, title, zip_code, addr_state, dti, delinq_2yrs, earliest_cr_line, inq_last_6mths, open_acc, pub_rec, revol_bal, revol_util, total_acc, out_prncp, out_prncp_inv, total_pymnt, total_pymnt_inv, total_rec_prncp, total_rec_int, total_rec_late_fee, recoveries, collection_recovery_fee, last_pymnt_d, last_pymnt_amnt, last_credit_pull_d, pub_rec_bankruptcies]\n",
       "Index: []"
      ]
     },
     "execution_count": 365,
     "metadata": {},
     "output_type": "execute_result"
    }
   ],
   "source": [
    "# To check if disbursed amount is greater then loan amount requested\n",
    "loan_data[loan_data['funded_amnt'] > loan_data['loan_amnt']]"
   ]
  },
  {
   "cell_type": "code",
   "execution_count": 366,
   "id": "d8afe5ab",
   "metadata": {
    "scrolled": true
   },
   "outputs": [
    {
     "name": "stdout",
     "output_type": "stream",
     "text": [
      "--- Loan Status ----\n",
      "\n",
      "3\n",
      "['fully paid' 'charged off' 'current']\n",
      "--- Term ----\n",
      "\n",
      "2\n",
      "[' 36' ' 60']\n",
      "   index  loan_status   size\n",
      "0      0  charged off   5627\n",
      "1      1      current   1140\n",
      "2      2   fully paid  32950\n",
      "--- Employee Length ----\n",
      "\n",
      "['10' '0' '1' '3' '8' '9' '4' '5' '6' '2' '7' 'Not Disclosed']\n",
      "count     39717\n",
      "unique       12\n",
      "top          10\n",
      "freq       8879\n",
      "Name: emp_length, dtype: object\n",
      "--- Annual Income ----\n",
      "\n",
      "59000.0\n",
      "--- Issue Date ----\n",
      "\n",
      "count                   39717\n",
      "unique                     55\n",
      "top       2011-12-01 00:00:00\n",
      "freq                     2260\n",
      "first     2007-06-01 00:00:00\n",
      "last      2011-12-01 00:00:00\n",
      "Name: issue_date_dt, dtype: object\n",
      "--- DTI ----\n",
      "\n",
      "2868\n",
      "--- delinq_2yrs ----\n",
      "\n",
      "11\n",
      "[ 0  2  3  1  4  6  5  8  7  9 11]\n",
      "delinq_2yrs\n",
      "0     35405\n",
      "1      3303\n",
      "2       687\n",
      "3       220\n",
      "4        62\n",
      "5        22\n",
      "6        10\n",
      "7         4\n",
      "8         2\n",
      "9         1\n",
      "11        1\n",
      "Name: id, dtype: int64\n",
      "--- inq_last_6mth ----\n",
      "\n",
      "9\n",
      "[1 5 2 0 3 4 6 7 8]\n",
      "--- interest rate ----\n",
      "\n",
      "371\n",
      "--- installment ----\n",
      "\n",
      "15383\n",
      "count   39,717.00\n",
      "mean       324.56\n",
      "std        208.87\n",
      "min         15.69\n",
      "25%        167.02\n",
      "50%        280.22\n",
      "75%        430.78\n",
      "max      1,305.19\n",
      "Name: installment, dtype: float64\n",
      "280.22\n",
      "--- pub_rec ----\n",
      "\n",
      "5\n",
      "[0 1 2 3 4]\n",
      "--- pub_rec_bankruptcies ----\n",
      "\n",
      "[ 0.  1.  2. nan]\n",
      "[0.0 1.0 2.0 'Not Known']\n",
      "2007-05-01 00:00:00\n",
      "2016-05-01 00:00:00\n"
     ]
    },
    {
     "data": {
      "text/plain": [
       "0                Computer\n",
       "1                    bike\n",
       "2    real estate business\n",
       "3                personel\n",
       "4                Personal\n",
       "Name: title, dtype: object"
      ]
     },
     "execution_count": 366,
     "metadata": {},
     "output_type": "execute_result"
    }
   ],
   "source": [
    "# Loan Status - Convert loan_status to lower, remove any spaces and find unique values.\n",
    "print('--- Loan Status ----\\n')\n",
    "loan_data['loan_status']=loan_data['loan_status'].str.strip().str.lower()\n",
    "print(loan_data.loan_status.nunique())\n",
    "print(loan_data.loan_status.unique())\n",
    "\n",
    "# Term - Check 'term' and remove the extra charecters 'Months'. Identify the unique values.\n",
    "print('--- Term ----\\n')\n",
    "loan_data['term']=loan_data['term'].str.replace(' months','')\n",
    "print(loan_data['term'].nunique())\n",
    "print(loan_data['term'].unique())\n",
    "\n",
    "# To check unique values count in column --> loan_data['loan_status'].value_counts()\n",
    "group_loan_status = loan_data.groupby(['loan_status'], as_index=False).size().reset_index()\n",
    "group_loan_status.reset_index(drop=True)\n",
    "group_loan_status.reset_index()\n",
    "print(group_loan_status)\n",
    "\n",
    "\n",
    "# Employement Length - Replace the extraneous charecters in the employee length and impute the NaNs as 'Not Disclosed'\n",
    "print('--- Employee Length ----\\n')\n",
    "loan_data['emp_length']=loan_data['emp_length'].str.strip().str.replace(' years','').str.replace('+','').str.replace('< 1','0').str.replace(' year','')\n",
    "loan_data.emp_length.fillna(value='Not Disclosed',inplace=True)\n",
    "print(loan_data.emp_length.unique())\n",
    "print(loan_data.emp_length.describe())\n",
    "\n",
    "# Investigate Annual income\n",
    "print('--- Annual Income ----\\n')\n",
    "print(loan_data.annual_inc.median())\n",
    "\n",
    "# Create a new derived column - log to the base 2 for annual income for analysis purpose. Which is the 2 power x\n",
    "loan_data['annual_inc_log2']=np.log2(loan_data['annual_inc'])\n",
    "loan_data['annual_inc_log2']\n",
    "\n",
    "# Issue Date - convert issue date to date time format\n",
    "print('--- Issue Date ----\\n')\n",
    "loan_data['issue_date_dt']=pd.to_datetime(loan_data['issue_d'],format='%b-%y')\n",
    "print(loan_data.issue_date_dt.describe())\n",
    "\n",
    "# Dti - Identify the unique values\n",
    "print('--- DTI ----\\n')\n",
    "print(loan_data.dti.nunique())\n",
    "\n",
    "\n",
    "#delinq_2yrs - Number of 30+ months passed after delinquecy incidents in last 2 years.\n",
    "print('--- delinq_2yrs ----\\n')\n",
    "print(loan_data.delinq_2yrs.nunique())\n",
    "print(loan_data.delinq_2yrs.unique())\n",
    "print(loan_data.groupby(by='delinq_2yrs')['id'].count())\n",
    "\n",
    "\n",
    "#inq_last_6mth - Just check values\n",
    "print('--- inq_last_6mth ----\\n')\n",
    "print(loan_data.inq_last_6mths.nunique())\n",
    "print(loan_data.inq_last_6mths.unique())\n",
    "\n",
    "#int_rate - apply the string cleaning and validate the nunique values\n",
    "print('--- interest rate ----\\n')\n",
    "loan_data['int_rate_f']=loan_data['int_rate'].str.replace('%','').astype(float)\n",
    "print(loan_data.int_rate_f.nunique())\n",
    "\n",
    "#installemnt - Just check \n",
    "print('--- installment ----\\n')\n",
    "print(loan_data.installment.nunique())\n",
    "print(loan_data.installment.describe())\n",
    "print(loan_data.installment.median())\n",
    "\n",
    "# pub_rec - Check the values\n",
    "print('--- pub_rec ----\\n')\n",
    "print(loan_data.pub_rec.nunique())\n",
    "print(loan_data.pub_rec.unique())\n",
    "\n",
    "\n",
    "#pub_rec_bankruptcies - Impute 'Not known' for the bankruptcies record where the data is not available. \n",
    "print('--- pub_rec_bankruptcies ----\\n')\n",
    "print(loan_data.pub_rec_bankruptcies.unique())\n",
    "loan_data.pub_rec_bankruptcies.fillna(value='Not Known',inplace=True)\n",
    "print(loan_data.pub_rec_bankruptcies.unique())\n",
    "\n",
    "\n",
    "# last_credit_pull_dt - Convert the format and validate the dates.\n",
    "loan_data['last_credit_pull_dt']=pd.to_datetime(loan_data['last_credit_pull_d'],format='%b-%y')\n",
    "print(loan_data['last_credit_pull_dt'].min())\n",
    "print(loan_data['last_credit_pull_dt'].max())\n",
    "\n",
    "# emp_title - Create a new derived column to categorize if the emp_title is disclosed or not\n",
    "loan_data.emp_title.describe()\n",
    "loan_data['emp_title_provided'] = np.where(np.logical_or(loan_data['emp_title'].isnull(), loan_data['emp_title'].str.strip() == ''), False, True)\n",
    "loan_data['emp_title_provided']=loan_data['emp_title_provided'].apply(lambda x: 'Disclosed' if x is True else 'Not Disclosed')\n",
    "\n",
    "# title - just check \n",
    "loan_data.title.describe()\n",
    "loan_data.title.head(5)"
   ]
  },
  {
   "cell_type": "markdown",
   "id": "8290f26b",
   "metadata": {},
   "source": [
    "# Observation\n",
    "\n",
    "* There is high variation of mean and median in annual income. So,clearly there are some outliers"
   ]
  },
  {
   "cell_type": "markdown",
   "id": "60d70073",
   "metadata": {},
   "source": [
    "# Home Owner ship\n"
   ]
  },
  {
   "cell_type": "code",
   "execution_count": 367,
   "id": "8bc20203",
   "metadata": {},
   "outputs": [
    {
     "name": "stdout",
     "output_type": "stream",
     "text": [
      "['RENT' 'OWN' 'MORTGAGE' 'OTHER' 'NONE']\n"
     ]
    }
   ],
   "source": [
    "print(loan_data.home_ownership.unique())"
   ]
  },
  {
   "cell_type": "code",
   "execution_count": 368,
   "id": "7a501d36",
   "metadata": {},
   "outputs": [
    {
     "data": {
      "text/html": [
       "<div>\n",
       "<style scoped>\n",
       "    .dataframe tbody tr th:only-of-type {\n",
       "        vertical-align: middle;\n",
       "    }\n",
       "\n",
       "    .dataframe tbody tr th {\n",
       "        vertical-align: top;\n",
       "    }\n",
       "\n",
       "    .dataframe thead th {\n",
       "        text-align: right;\n",
       "    }\n",
       "</style>\n",
       "<table border=\"1\" class=\"dataframe\">\n",
       "  <thead>\n",
       "    <tr style=\"text-align: right;\">\n",
       "      <th></th>\n",
       "      <th>id</th>\n",
       "      <th>member_id</th>\n",
       "      <th>loan_amnt</th>\n",
       "      <th>funded_amnt</th>\n",
       "      <th>funded_amnt_inv</th>\n",
       "      <th>term</th>\n",
       "      <th>int_rate</th>\n",
       "      <th>installment</th>\n",
       "      <th>grade</th>\n",
       "      <th>sub_grade</th>\n",
       "      <th>emp_title</th>\n",
       "      <th>emp_length</th>\n",
       "      <th>home_ownership</th>\n",
       "      <th>annual_inc</th>\n",
       "      <th>verification_status</th>\n",
       "      <th>issue_d</th>\n",
       "      <th>loan_status</th>\n",
       "      <th>url</th>\n",
       "      <th>desc</th>\n",
       "      <th>purpose</th>\n",
       "      <th>title</th>\n",
       "      <th>zip_code</th>\n",
       "      <th>addr_state</th>\n",
       "      <th>dti</th>\n",
       "      <th>delinq_2yrs</th>\n",
       "      <th>earliest_cr_line</th>\n",
       "      <th>inq_last_6mths</th>\n",
       "      <th>open_acc</th>\n",
       "      <th>pub_rec</th>\n",
       "      <th>revol_bal</th>\n",
       "      <th>revol_util</th>\n",
       "      <th>total_acc</th>\n",
       "      <th>out_prncp</th>\n",
       "      <th>out_prncp_inv</th>\n",
       "      <th>total_pymnt</th>\n",
       "      <th>total_pymnt_inv</th>\n",
       "      <th>total_rec_prncp</th>\n",
       "      <th>total_rec_int</th>\n",
       "      <th>total_rec_late_fee</th>\n",
       "      <th>recoveries</th>\n",
       "      <th>collection_recovery_fee</th>\n",
       "      <th>last_pymnt_d</th>\n",
       "      <th>last_pymnt_amnt</th>\n",
       "      <th>last_credit_pull_d</th>\n",
       "      <th>pub_rec_bankruptcies</th>\n",
       "      <th>annual_inc_log2</th>\n",
       "      <th>issue_date_dt</th>\n",
       "      <th>int_rate_f</th>\n",
       "      <th>last_credit_pull_dt</th>\n",
       "      <th>emp_title_provided</th>\n",
       "    </tr>\n",
       "  </thead>\n",
       "  <tbody>\n",
       "    <tr>\n",
       "      <th>39318</th>\n",
       "      <td>231321</td>\n",
       "      <td>214993</td>\n",
       "      <td>10000</td>\n",
       "      <td>10000</td>\n",
       "      <td>1,228.06</td>\n",
       "      <td>36</td>\n",
       "      <td>7.75%</td>\n",
       "      <td>312.22</td>\n",
       "      <td>A</td>\n",
       "      <td>A3</td>\n",
       "      <td>ups</td>\n",
       "      <td>5</td>\n",
       "      <td>none</td>\n",
       "      <td>22,200.00</td>\n",
       "      <td>Not Verified</td>\n",
       "      <td>Jan-08</td>\n",
       "      <td>fully paid</td>\n",
       "      <td>https://lendingclub.com/browse/loanDetail.acti...</td>\n",
       "      <td>I plan to pay off my credit cards, leaving me ...</td>\n",
       "      <td>debt_consolidation</td>\n",
       "      <td>Melinda Holster</td>\n",
       "      <td>233xx</td>\n",
       "      <td>VA</td>\n",
       "      <td>5.24</td>\n",
       "      <td>0</td>\n",
       "      <td>Apr-94</td>\n",
       "      <td>0</td>\n",
       "      <td>9</td>\n",
       "      <td>0</td>\n",
       "      <td>4767</td>\n",
       "      <td>8.70%</td>\n",
       "      <td>22</td>\n",
       "      <td>0.00</td>\n",
       "      <td>0.00</td>\n",
       "      <td>11,239.62</td>\n",
       "      <td>1,380.00</td>\n",
       "      <td>9,999.99</td>\n",
       "      <td>1,239.63</td>\n",
       "      <td>0.00</td>\n",
       "      <td>0.00</td>\n",
       "      <td>0.00</td>\n",
       "      <td>Feb-11</td>\n",
       "      <td>313.59</td>\n",
       "      <td>Jan-11</td>\n",
       "      <td>Not Known</td>\n",
       "      <td>14.44</td>\n",
       "      <td>2008-01-01</td>\n",
       "      <td>7.75</td>\n",
       "      <td>2011-01-01</td>\n",
       "      <td>Disclosed</td>\n",
       "    </tr>\n",
       "    <tr>\n",
       "      <th>39659</th>\n",
       "      <td>121568</td>\n",
       "      <td>121574</td>\n",
       "      <td>4000</td>\n",
       "      <td>4000</td>\n",
       "      <td>1,925.00</td>\n",
       "      <td>36</td>\n",
       "      <td>9.64%</td>\n",
       "      <td>128.41</td>\n",
       "      <td>B</td>\n",
       "      <td>B4</td>\n",
       "      <td>NaN</td>\n",
       "      <td>0</td>\n",
       "      <td>none</td>\n",
       "      <td>100,000.00</td>\n",
       "      <td>Not Verified</td>\n",
       "      <td>Aug-07</td>\n",
       "      <td>fully paid</td>\n",
       "      <td>https://lendingclub.com/browse/loanDetail.acti...</td>\n",
       "      <td>I took a high interest loan from Citibank in 2...</td>\n",
       "      <td>other</td>\n",
       "      <td>Refinancing high interest loan</td>\n",
       "      <td>950xx</td>\n",
       "      <td>CA</td>\n",
       "      <td>15.00</td>\n",
       "      <td>0</td>\n",
       "      <td>May-99</td>\n",
       "      <td>1</td>\n",
       "      <td>6</td>\n",
       "      <td>0</td>\n",
       "      <td>8155</td>\n",
       "      <td>14.90%</td>\n",
       "      <td>8</td>\n",
       "      <td>0.00</td>\n",
       "      <td>0.00</td>\n",
       "      <td>4,622.49</td>\n",
       "      <td>2,224.58</td>\n",
       "      <td>4,000.00</td>\n",
       "      <td>622.49</td>\n",
       "      <td>0.00</td>\n",
       "      <td>0.00</td>\n",
       "      <td>0.00</td>\n",
       "      <td>Sep-10</td>\n",
       "      <td>129.76</td>\n",
       "      <td>Aug-07</td>\n",
       "      <td>Not Known</td>\n",
       "      <td>16.61</td>\n",
       "      <td>2007-08-01</td>\n",
       "      <td>9.64</td>\n",
       "      <td>2007-08-01</td>\n",
       "      <td>Not Disclosed</td>\n",
       "    </tr>\n",
       "    <tr>\n",
       "      <th>39660</th>\n",
       "      <td>121535</td>\n",
       "      <td>121373</td>\n",
       "      <td>2800</td>\n",
       "      <td>2800</td>\n",
       "      <td>1,625.00</td>\n",
       "      <td>36</td>\n",
       "      <td>8.70%</td>\n",
       "      <td>88.65</td>\n",
       "      <td>B</td>\n",
       "      <td>B1</td>\n",
       "      <td>NaN</td>\n",
       "      <td>0</td>\n",
       "      <td>none</td>\n",
       "      <td>120,000.00</td>\n",
       "      <td>Not Verified</td>\n",
       "      <td>Aug-07</td>\n",
       "      <td>fully paid</td>\n",
       "      <td>https://lendingclub.com/browse/loanDetail.acti...</td>\n",
       "      <td>The family is expanding in October and we are ...</td>\n",
       "      <td>other</td>\n",
       "      <td>Baby is coming</td>\n",
       "      <td>024xx</td>\n",
       "      <td>MA</td>\n",
       "      <td>15.00</td>\n",
       "      <td>0</td>\n",
       "      <td>May-99</td>\n",
       "      <td>1</td>\n",
       "      <td>6</td>\n",
       "      <td>0</td>\n",
       "      <td>8155</td>\n",
       "      <td>14.90%</td>\n",
       "      <td>8</td>\n",
       "      <td>0.00</td>\n",
       "      <td>0.00</td>\n",
       "      <td>3,191.22</td>\n",
       "      <td>1,852.05</td>\n",
       "      <td>2,800.00</td>\n",
       "      <td>391.22</td>\n",
       "      <td>0.00</td>\n",
       "      <td>0.00</td>\n",
       "      <td>0.00</td>\n",
       "      <td>Sep-10</td>\n",
       "      <td>89.80</td>\n",
       "      <td>Aug-07</td>\n",
       "      <td>Not Known</td>\n",
       "      <td>16.87</td>\n",
       "      <td>2007-08-01</td>\n",
       "      <td>8.70</td>\n",
       "      <td>2007-08-01</td>\n",
       "      <td>Not Disclosed</td>\n",
       "    </tr>\n",
       "  </tbody>\n",
       "</table>\n",
       "</div>"
      ],
      "text/plain": [
       "           id  member_id  loan_amnt  funded_amnt  funded_amnt_inv term  \\\n",
       "39318  231321     214993      10000        10000         1,228.06   36   \n",
       "39659  121568     121574       4000         4000         1,925.00   36   \n",
       "39660  121535     121373       2800         2800         1,625.00   36   \n",
       "\n",
       "      int_rate  installment grade sub_grade emp_title emp_length  \\\n",
       "39318    7.75%       312.22     A        A3       ups          5   \n",
       "39659    9.64%       128.41     B        B4       NaN          0   \n",
       "39660    8.70%        88.65     B        B1       NaN          0   \n",
       "\n",
       "      home_ownership  annual_inc verification_status issue_d loan_status  \\\n",
       "39318           none   22,200.00        Not Verified  Jan-08  fully paid   \n",
       "39659           none  100,000.00        Not Verified  Aug-07  fully paid   \n",
       "39660           none  120,000.00        Not Verified  Aug-07  fully paid   \n",
       "\n",
       "                                                     url  \\\n",
       "39318  https://lendingclub.com/browse/loanDetail.acti...   \n",
       "39659  https://lendingclub.com/browse/loanDetail.acti...   \n",
       "39660  https://lendingclub.com/browse/loanDetail.acti...   \n",
       "\n",
       "                                                    desc             purpose  \\\n",
       "39318  I plan to pay off my credit cards, leaving me ...  debt_consolidation   \n",
       "39659  I took a high interest loan from Citibank in 2...               other   \n",
       "39660  The family is expanding in October and we are ...               other   \n",
       "\n",
       "                                title zip_code addr_state   dti  delinq_2yrs  \\\n",
       "39318                 Melinda Holster    233xx         VA  5.24            0   \n",
       "39659  Refinancing high interest loan    950xx         CA 15.00            0   \n",
       "39660                  Baby is coming    024xx         MA 15.00            0   \n",
       "\n",
       "      earliest_cr_line  inq_last_6mths  open_acc  pub_rec  revol_bal  \\\n",
       "39318           Apr-94               0         9        0       4767   \n",
       "39659           May-99               1         6        0       8155   \n",
       "39660           May-99               1         6        0       8155   \n",
       "\n",
       "      revol_util  total_acc  out_prncp  out_prncp_inv  total_pymnt  \\\n",
       "39318      8.70%         22       0.00           0.00    11,239.62   \n",
       "39659     14.90%          8       0.00           0.00     4,622.49   \n",
       "39660     14.90%          8       0.00           0.00     3,191.22   \n",
       "\n",
       "       total_pymnt_inv  total_rec_prncp  total_rec_int  total_rec_late_fee  \\\n",
       "39318         1,380.00         9,999.99       1,239.63                0.00   \n",
       "39659         2,224.58         4,000.00         622.49                0.00   \n",
       "39660         1,852.05         2,800.00         391.22                0.00   \n",
       "\n",
       "       recoveries  collection_recovery_fee last_pymnt_d  last_pymnt_amnt  \\\n",
       "39318        0.00                     0.00       Feb-11           313.59   \n",
       "39659        0.00                     0.00       Sep-10           129.76   \n",
       "39660        0.00                     0.00       Sep-10            89.80   \n",
       "\n",
       "      last_credit_pull_d pub_rec_bankruptcies  annual_inc_log2 issue_date_dt  \\\n",
       "39318             Jan-11            Not Known            14.44    2008-01-01   \n",
       "39659             Aug-07            Not Known            16.61    2007-08-01   \n",
       "39660             Aug-07            Not Known            16.87    2007-08-01   \n",
       "\n",
       "       int_rate_f last_credit_pull_dt emp_title_provided  \n",
       "39318        7.75          2011-01-01          Disclosed  \n",
       "39659        9.64          2007-08-01      Not Disclosed  \n",
       "39660        8.70          2007-08-01      Not Disclosed  "
      ]
     },
     "execution_count": 368,
     "metadata": {},
     "output_type": "execute_result"
    }
   ],
   "source": [
    "# As per Data Dictionary, the values for howm ownership should be one of RENT' 'OWN' 'MORTGAGE' 'OTHER'.\n",
    "# Convert them to lower case, stip out any spaces. \n",
    "# Identify how many are outside this designated category.\n",
    "loan_data['home_ownership']=loan_data['home_ownership'].str.strip().str.lower()\n",
    "\n",
    "# Values should be one of 'rent' 'own' 'mortgage' 'other' \n",
    "loan_data.groupby(by='home_ownership')['loan_amnt'].count()\n",
    "loan_data[loan_data['home_ownership']=='none']\n"
   ]
  },
  {
   "cell_type": "code",
   "execution_count": 369,
   "id": "2016a939",
   "metadata": {},
   "outputs": [
    {
     "name": "stdout",
     "output_type": "stream",
     "text": [
      "['rent' 'own' 'mortgage' 'other']\n"
     ]
    }
   ],
   "source": [
    "# There are only 3 such observatiions. These observations doesn't cause any issue to the charged off loan univariate analysis.\n",
    "# When we drop them from 'Fully paid' data, it is only a small percentage.\n",
    "\n",
    "loan_data.drop(loan_data[loan_data.home_ownership == 'none'].index, inplace=True)\n",
    "print(loan_data.home_ownership.unique())"
   ]
  },
  {
   "cell_type": "code",
   "execution_count": 370,
   "id": "23f66fc4",
   "metadata": {},
   "outputs": [
    {
     "data": {
      "text/plain": [
       "home_ownership\n",
       "mortgage    17659\n",
       "other          98\n",
       "own          3058\n",
       "rent        18899\n",
       "Name: loan_amnt, dtype: int64"
      ]
     },
     "execution_count": 370,
     "metadata": {},
     "output_type": "execute_result"
    }
   ],
   "source": [
    "loan_data.groupby(by='home_ownership')['loan_amnt'].count()"
   ]
  },
  {
   "cell_type": "markdown",
   "id": "019a5416",
   "metadata": {},
   "source": [
    "# Verification status"
   ]
  },
  {
   "cell_type": "code",
   "execution_count": 371,
   "id": "9f14ec71",
   "metadata": {},
   "outputs": [
    {
     "name": "stdout",
     "output_type": "stream",
     "text": [
      "3\n",
      "['Verified' 'Source Verified' 'Not Verified']\n"
     ]
    }
   ],
   "source": [
    "print(loan_data.verification_status.nunique())\n",
    "print(loan_data.verification_status.unique())"
   ]
  },
  {
   "cell_type": "code",
   "execution_count": 372,
   "id": "5f8e8ed6",
   "metadata": {},
   "outputs": [
    {
     "name": "stdout",
     "output_type": "stream",
     "text": [
      "2\n",
      "[ True False]\n",
      "2\n",
      "[False  True]\n"
     ]
    }
   ],
   "source": [
    "# There are two categories here. Income verified or not. Source of income(employability) is verified or not. \n",
    "# We can derive new boolean column from income and source verification.\n",
    "\n",
    "loan_data['source_verification'] = np.where(loan_data['verification_status'].str.strip() == 'Source Verified', True, False)\n",
    "loan_data['income_verification'] = np.where(np.logical_or(loan_data['verification_status'].str.strip() == 'Verified', \n",
    "                                                    loan_data['verification_status'].str.strip() == 'Source Verified'), True, False)\n",
    "\n",
    "print(loan_data.income_verification.nunique())\n",
    "print(loan_data.income_verification.unique())\n",
    "print(loan_data.source_verification.nunique())\n",
    "print(loan_data.source_verification.unique())"
   ]
  },
  {
   "cell_type": "markdown",
   "id": "46c54cb8",
   "metadata": {},
   "source": [
    "# Purpose and Desc"
   ]
  },
  {
   "cell_type": "code",
   "execution_count": 373,
   "id": "365b1c49",
   "metadata": {},
   "outputs": [
    {
     "name": "stdout",
     "output_type": "stream",
     "text": [
      "count                  39714\n",
      "unique                    14\n",
      "top       debt_consolidation\n",
      "freq                   18640\n",
      "Name: purpose, dtype: object\n",
      "['credit_card' 'car' 'small_business' 'other' 'wedding'\n",
      " 'debt_consolidation' 'home_improvement' 'major_purchase' 'medical'\n",
      " 'moving' 'vacation' 'house' 'renewable_energy' 'educational']\n"
     ]
    },
    {
     "data": {
      "text/plain": [
       "array(['B', 'C', 'A', 'E', 'F', 'D', 'G'], dtype=object)"
      ]
     },
     "execution_count": 373,
     "metadata": {},
     "output_type": "execute_result"
    }
   ],
   "source": [
    "loan_data['purpose']=loan_data['purpose'].str.strip().str.lower()\n",
    "print(loan_data.purpose.describe())\n",
    "print(loan_data.purpose.unique())\n",
    "loan_data.grade.unique()"
   ]
  },
  {
   "cell_type": "code",
   "execution_count": 374,
   "id": "b6524bff",
   "metadata": {},
   "outputs": [
    {
     "data": {
      "text/plain": [
       "purpose_mapped\n",
       "Auto                   1549\n",
       "debt_consolidation    23770\n",
       "educational             325\n",
       "home_improvement       4043\n",
       "major_purchase         2187\n",
       "medical                 693\n",
       "other                  3991\n",
       "small_business         1828\n",
       "vacation                381\n",
       "wedding                 947\n",
       "Name: id, dtype: int64"
      ]
     },
     "execution_count": 374,
     "metadata": {},
     "output_type": "execute_result"
    }
   ],
   "source": [
    "# Genralise/Narrow down the loan purpose. For example, credit_card balance clearence is same as debit consolidation. \n",
    "\n",
    "purpose_maping={'credit_card':'debt_consolidation',\n",
    "            'car':'Auto',\n",
    "             'small_business':'small_business',\n",
    "             'other':'other',\n",
    "             'wedding':'wedding',\n",
    "             'debt_consolidation': 'debt_consolidation',\n",
    "             'home_improvement':'home_improvement',\n",
    "             'major_purchase':'major_purchase',\n",
    "             'medical':'medical',\n",
    "             'moving':'home_improvement',\n",
    "             'vacation':'vacation',\n",
    "             'house':'home_improvement',\n",
    "             'renewable_energy':'home_improvement',\n",
    "             'educational':'educational'\n",
    "            }\n",
    "loan_data['purpose_mapped']=loan_data['purpose'].map(purpose_maping)\n",
    "loan_data.groupby(by=['purpose_mapped'])['id'].count()"
   ]
  },
  {
   "cell_type": "code",
   "execution_count": 375,
   "id": "33a78a54",
   "metadata": {},
   "outputs": [
    {
     "name": "stdout",
     "output_type": "stream",
     "text": [
      "count             39714\n",
      "unique            26525\n",
      "top       Not Disclosed\n",
      "freq              12940\n",
      "Name: desc, dtype: object\n"
     ]
    }
   ],
   "source": [
    "# Impute 'Not Disclosed' in the 'Desc' column for NaNs\n",
    "loan_data.desc.fillna(value='Not Disclosed',inplace=True)\n",
    "print(loan_data.desc.describe())"
   ]
  },
  {
   "cell_type": "markdown",
   "id": "200b15f1",
   "metadata": {},
   "source": [
    "# Observation"
   ]
  },
  {
   "cell_type": "markdown",
   "id": "512ff651",
   "metadata": {},
   "source": [
    "* From eye ball checks, it is evident that some of the loans are availed for debt consolidation.\n",
    "* For example, with reason of wedding, loan was availed to clear off credit card balance. So process mapping will need to be done. Do a generic search for the work 'consolidate' and categorise the 'purpose'.\n",
    "* We can only use the work 'pay off', but that will map some genuine observations. For this exercise we considered only 'consolidate'"
   ]
  },
  {
   "cell_type": "code",
   "execution_count": 376,
   "id": "f84760cc",
   "metadata": {},
   "outputs": [
    {
     "name": "stdout",
     "output_type": "stream",
     "text": [
      "purpose_mapped\n",
      "Auto                   1538\n",
      "debt_consolidation    24124\n",
      "educational             314\n",
      "home_improvement       3995\n",
      "major_purchase         2145\n",
      "medical                 673\n",
      "other                  3804\n",
      "small_business         1819\n",
      "vacation                376\n",
      "wedding                 926\n",
      "Name: id, dtype: int64\n"
     ]
    }
   ],
   "source": [
    "# Apply the changes on 'purpose_mapped' as mentioned above.\n",
    "\n",
    "a='consolidate'\n",
    "temp_frame_non_dbtc=loan_data[loan_data['purpose_mapped']!='debt_consolidation']\n",
    "temp_frame_dbtc=loan_data[loan_data['purpose_mapped']=='debt_consolidation']\n",
    "bool_frame=temp_frame_non_dbtc['desc'].apply(lambda x:True if a in x else False)\n",
    "temp_frame_non_dbtc_hits=temp_frame_non_dbtc[bool_frame]\n",
    "temp_frame_non_dbtc_nohits=temp_frame_non_dbtc[~bool_frame]\n",
    "temp_frame_non_dbtc_hits['purpose_mapped']='debt_consolidation'\n",
    "\n",
    "loan_data = pd.concat([temp_frame_non_dbtc_hits,temp_frame_non_dbtc_nohits,temp_frame_dbtc],axis=0)\n",
    "\n",
    "print(loan_data.groupby(by=['purpose_mapped'])['id'].count())"
   ]
  },
  {
   "cell_type": "markdown",
   "id": "b780cf1d",
   "metadata": {},
   "source": [
    "# Zip Code and Address State Cleaning"
   ]
  },
  {
   "cell_type": "code",
   "execution_count": 377,
   "id": "2cdc956d",
   "metadata": {},
   "outputs": [
    {
     "data": {
      "text/html": [
       "<div>\n",
       "<style scoped>\n",
       "    .dataframe tbody tr th:only-of-type {\n",
       "        vertical-align: middle;\n",
       "    }\n",
       "\n",
       "    .dataframe tbody tr th {\n",
       "        vertical-align: top;\n",
       "    }\n",
       "\n",
       "    .dataframe thead th {\n",
       "        text-align: right;\n",
       "    }\n",
       "</style>\n",
       "<table border=\"1\" class=\"dataframe\">\n",
       "  <thead>\n",
       "    <tr style=\"text-align: right;\">\n",
       "      <th></th>\n",
       "      <th>addr_state</th>\n",
       "      <th>zip_code</th>\n",
       "      <th>id</th>\n",
       "    </tr>\n",
       "  </thead>\n",
       "  <tbody>\n",
       "    <tr>\n",
       "      <th>0</th>\n",
       "      <td>AK</td>\n",
       "      <td>352xx</td>\n",
       "      <td>1</td>\n",
       "    </tr>\n",
       "    <tr>\n",
       "      <th>1</th>\n",
       "      <td>AK</td>\n",
       "      <td>363xx</td>\n",
       "      <td>1</td>\n",
       "    </tr>\n",
       "    <tr>\n",
       "      <th>2</th>\n",
       "      <td>AK</td>\n",
       "      <td>995xx</td>\n",
       "      <td>33</td>\n",
       "    </tr>\n",
       "    <tr>\n",
       "      <th>3</th>\n",
       "      <td>AK</td>\n",
       "      <td>996xx</td>\n",
       "      <td>13</td>\n",
       "    </tr>\n",
       "    <tr>\n",
       "      <th>4</th>\n",
       "      <td>AK</td>\n",
       "      <td>997xx</td>\n",
       "      <td>21</td>\n",
       "    </tr>\n",
       "    <tr>\n",
       "      <th>...</th>\n",
       "      <td>...</td>\n",
       "      <td>...</td>\n",
       "      <td>...</td>\n",
       "    </tr>\n",
       "    <tr>\n",
       "      <th>892</th>\n",
       "      <td>WY</td>\n",
       "      <td>827xx</td>\n",
       "      <td>5</td>\n",
       "    </tr>\n",
       "    <tr>\n",
       "      <th>893</th>\n",
       "      <td>WY</td>\n",
       "      <td>828xx</td>\n",
       "      <td>7</td>\n",
       "    </tr>\n",
       "    <tr>\n",
       "      <th>894</th>\n",
       "      <td>WY</td>\n",
       "      <td>829xx</td>\n",
       "      <td>19</td>\n",
       "    </tr>\n",
       "    <tr>\n",
       "      <th>895</th>\n",
       "      <td>WY</td>\n",
       "      <td>830xx</td>\n",
       "      <td>7</td>\n",
       "    </tr>\n",
       "    <tr>\n",
       "      <th>896</th>\n",
       "      <td>WY</td>\n",
       "      <td>831xx</td>\n",
       "      <td>1</td>\n",
       "    </tr>\n",
       "  </tbody>\n",
       "</table>\n",
       "<p>897 rows × 3 columns</p>\n",
       "</div>"
      ],
      "text/plain": [
       "    addr_state zip_code  id\n",
       "0           AK    352xx   1\n",
       "1           AK    363xx   1\n",
       "2           AK    995xx  33\n",
       "3           AK    996xx  13\n",
       "4           AK    997xx  21\n",
       "..         ...      ...  ..\n",
       "892         WY    827xx   5\n",
       "893         WY    828xx   7\n",
       "894         WY    829xx  19\n",
       "895         WY    830xx   7\n",
       "896         WY    831xx   1\n",
       "\n",
       "[897 rows x 3 columns]"
      ]
     },
     "execution_count": 377,
     "metadata": {},
     "output_type": "execute_result"
    }
   ],
   "source": [
    "# Eye ball Check zip_code and address.\n",
    "loan_data.groupby(by=['addr_state','zip_code'])['id'].count().reset_index()"
   ]
  },
  {
   "cell_type": "markdown",
   "id": "b64da312",
   "metadata": {},
   "source": [
    "# Assumption"
   ]
  },
  {
   "cell_type": "markdown",
   "id": "cad52659",
   "metadata": {},
   "source": [
    "* We are assuming that the zip codes on the application are correct.\n",
    "* State codes will be derived from python standard package using the zip codes."
   ]
  },
  {
   "cell_type": "code",
   "execution_count": 378,
   "id": "94744e7e",
   "metadata": {},
   "outputs": [],
   "source": [
    "# Clearly there is an issue. zip code of 352 and 363 belong to Alabama(AL) and not AK. \n",
    "# Set up code to extract correct state using zip-code.\n",
    "loan_data['zip_code_str']=loan_data['zip_code'].str.replace('xx','')\n",
    "a=loan_data['zip_code_str'].unique()\n",
    "b=[]\n",
    "c=[]\n",
    "for i in a:  \n",
    "    j=zc.similar_to(i)\n",
    "    if len(j)==0:\n",
    "        b.append('NIU')\n",
    "        c.append('NOP')\n",
    "    else:   \n",
    "        b.append(j[0].get('state'))\n",
    "        c.append(j[0].get('city'))\n",
    "        \n",
    "d={'zip_code_str':a,'state_code':b,'city_code':c}\n",
    "temp_zip_code_city_frame=pd.DataFrame(data=d)\n",
    "loan_data= loan_data.merge(temp_zip_code_city_frame, how = 'inner', on = ['zip_code_str'])\n"
   ]
  },
  {
   "cell_type": "code",
   "execution_count": 379,
   "id": "c62ab163",
   "metadata": {},
   "outputs": [
    {
     "name": "stdout",
     "output_type": "stream",
     "text": [
      "    state_code zip_code_str  id\n",
      "0           AE          090   1\n",
      "1           AE          093   1\n",
      "2           AE          094   2\n",
      "3           AE          096   1\n",
      "4           AK          995  33\n",
      "..         ...          ...  ..\n",
      "818         WY          827   6\n",
      "819         WY          828   7\n",
      "820         WY          829  19\n",
      "821         WY          830   7\n",
      "822         WY          831   1\n",
      "\n",
      "[823 rows x 3 columns]\n"
     ]
    }
   ],
   "source": [
    "# Check zip_code and address.\n",
    "print(loan_data.groupby(by=['state_code','zip_code_str'])['id'].count().reset_index())\n"
   ]
  },
  {
   "cell_type": "markdown",
   "id": "1a86c7d9",
   "metadata": {},
   "source": [
    "* The zip codes and the state codes now appear correct"
   ]
  },
  {
   "cell_type": "markdown",
   "id": "0a7767fc",
   "metadata": {},
   "source": [
    "# Earliest_cr_line ( Date when the first credit was applied)"
   ]
  },
  {
   "cell_type": "markdown",
   "id": "5d335197",
   "metadata": {},
   "source": [
    "We can clean this column and calculate the Credit Age of the applicant. The credit Age will be the difference in the issue date\n",
    "and date when the applicat first applied for the loan. Generally, the normal credit Age of the applicant is a good propect.\n",
    "Too high credit age implies, the age of applicant is too high and so risky.\n",
    "Too low credit age implies, there is uncertainity on the credit profile of the customer."
   ]
  },
  {
   "cell_type": "code",
   "execution_count": 380,
   "id": "290a3f69",
   "metadata": {},
   "outputs": [
    {
     "name": "stdout",
     "output_type": "stream",
     "text": [
      "1969-02-01 00:00:00\n",
      "2068-12-01 00:00:00\n"
     ]
    }
   ],
   "source": [
    "loan_data['earliest_cr_line_dt']=pd.to_datetime(loan_data['earliest_cr_line'],format='%b-%y')\n",
    "print(loan_data['earliest_cr_line_dt'].min())\n",
    "print(loan_data['earliest_cr_line_dt'].max())"
   ]
  },
  {
   "cell_type": "code",
   "execution_count": null,
   "id": "09bc3493",
   "metadata": {},
   "outputs": [],
   "source": [
    "# Earliest credit line of 2068 doesn't make sense. This appears to be due to limitation in python. \n",
    "# Python datetime library can only read dates until 1968. \n",
    "\n",
    "loan_data['earliest_cr_line_dt_fine']=loan_data['earliest_cr_line_dt'].apply(lambda x :x.replace(year=x.year-100) if x.year > 2018 else x)\n",
    "print(loan_data['earliest_cr_line_dt_fine'].min())\n",
    "print(loan_data['earliest_cr_line_dt_fine'].max())"
   ]
  },
  {
   "cell_type": "code",
   "execution_count": null,
   "id": "0cc70a4a",
   "metadata": {},
   "outputs": [],
   "source": [
    "# Take timedelta of issue_date_dt and earliest_cr_line_dt_fine to determin the 'credit Age/History of applicant'. \n",
    "# Calculate the credit History in terms of years\n",
    "\n",
    "loan_data['time_delta']=loan_data['issue_date_dt']-loan_data['earliest_cr_line_dt_fine']\n",
    "loan_data['time_delta_int']=loan_data['time_delta']/np.timedelta64(1, 'Y')\n",
    "print(loan_data['time_delta_int'].min())\n",
    "print(loan_data['time_delta_int'].max())\n"
   ]
  },
  {
   "cell_type": "markdown",
   "id": "7d8b2fea",
   "metadata": {},
   "source": [
    "# Open_acc and total_acc"
   ]
  },
  {
   "cell_type": "code",
   "execution_count": null,
   "id": "76307489",
   "metadata": {},
   "outputs": [],
   "source": [
    "print(loan_data.open_acc.nunique())\n",
    "print(loan_data.open_acc.unique())"
   ]
  },
  {
   "cell_type": "code",
   "execution_count": null,
   "id": "649ad3e0",
   "metadata": {},
   "outputs": [],
   "source": [
    "print(loan_data.total_acc.nunique())\n",
    "print(loan_data.total_acc.unique())"
   ]
  },
  {
   "cell_type": "code",
   "execution_count": null,
   "id": "6a50ced9",
   "metadata": {},
   "outputs": [],
   "source": [
    "# Calculate the open account ratio\n",
    "loan_data['open_acct_ratio']=loan_data['open_acc']/loan_data['total_acc']"
   ]
  },
  {
   "cell_type": "code",
   "execution_count": null,
   "id": "3ed87526",
   "metadata": {},
   "outputs": [],
   "source": [
    "# Do a sanity check on the ratio. It should be between 0 and 1.\n",
    "loan_data[np.where(loan_data['open_acct_ratio'] > 1, True, False)]"
   ]
  },
  {
   "cell_type": "code",
   "execution_count": null,
   "id": "17cd48df",
   "metadata": {},
   "outputs": [],
   "source": [
    "loan_data[loan_data['open_acct_ratio']<0]"
   ]
  },
  {
   "cell_type": "markdown",
   "id": "4689b874",
   "metadata": {},
   "source": [
    "# Observation:"
   ]
  },
  {
   "cell_type": "markdown",
   "id": "df9ea433",
   "metadata": {},
   "source": [
    "* Looking at this observation, it appears that either total account or open account value was incorrectly keyed in.\n",
    "There are two options\n",
    "    * to update the total_acc to '14' or\n",
    "    * to delete the observation. (We can't give arbitrary open account) Dropping the observation makes sense as this is just 1 observation - a very small percentage of 'fully paid loans'."
   ]
  },
  {
   "cell_type": "code",
   "execution_count": null,
   "id": "cba1d615",
   "metadata": {},
   "outputs": [],
   "source": [
    "loan_data.drop(loan_data[loan_data.id == 127213].index, inplace=True)"
   ]
  },
  {
   "cell_type": "markdown",
   "id": "87a9bbcc",
   "metadata": {},
   "source": [
    "# Revol_bal (Revolving Balance) and Revol_util (Revolving balance utilisation rate)"
   ]
  },
  {
   "cell_type": "code",
   "execution_count": null,
   "id": "5733eab8",
   "metadata": {},
   "outputs": [],
   "source": [
    "print(loan_data.revol_bal.nunique())\n",
    "print(loan_data.revol_util.nunique())"
   ]
  },
  {
   "cell_type": "code",
   "execution_count": null,
   "id": "6c9f187f",
   "metadata": {},
   "outputs": [],
   "source": [
    "loan_data.revol_util=loan_data.revol_util.str.replace('%','').astype(float)"
   ]
  },
  {
   "cell_type": "markdown",
   "id": "c1b74935",
   "metadata": {},
   "source": [
    "Note:\n",
    "\n",
    "There are some NaNs in the revolving utilization. See the percentage of the NaN values to the complete observations and\n",
    "conclude if the observations with NaNs can be dropped."
   ]
  },
  {
   "cell_type": "code",
   "execution_count": null,
   "id": "67479e06",
   "metadata": {},
   "outputs": [],
   "source": [
    "print(loan_data[loan_data.revol_util.isna()].groupby(by='loan_status')['id'].count())\n",
    "print('--------------')\n",
    "print(loan_data[~loan_data.revol_util.isna()].groupby(by='loan_status')['id'].count())"
   ]
  },
  {
   "cell_type": "code",
   "execution_count": null,
   "id": "f0007dbf",
   "metadata": {},
   "outputs": [],
   "source": [
    "## Drop these records, as the percentage is really small in each segment.\n",
    "loan_data.dropna(subset=['revol_util'],inplace=True)"
   ]
  },
  {
   "cell_type": "markdown",
   "id": "6913a0fb",
   "metadata": {},
   "source": [
    "* Analyse the values of each of the amount based columns.\n",
    "* These columns in general are the result of the loan status rather than the cause of the loan status\n",
    "* These columsn can be eventually dropped."
   ]
  },
  {
   "cell_type": "code",
   "execution_count": null,
   "id": "365ac2ca",
   "metadata": {},
   "outputs": [],
   "source": [
    "loan_data[loan_data['loan_status'] != 'current'][['out_prncp',\n",
    "'out_prncp_inv',\n",
    "'total_rec_prncp',\n",
    "'total_rec_int',\n",
    "'total_rec_late_fee',\n",
    "'recoveries',\n",
    "'collection_recovery_fee',\n",
    "'total_pymnt',\n",
    "'total_pymnt_inv',\n",
    "'last_pymnt_d',\n",
    "'last_pymnt_amnt']].describe()"
   ]
  },
  {
   "cell_type": "code",
   "execution_count": null,
   "id": "f71573e6",
   "metadata": {},
   "outputs": [],
   "source": [
    "loan_data[loan_data['loan_status'] != 'current'][['out_prncp',\n",
    "'out_prncp_inv',\n",
    "'total_rec_prncp',\n",
    "'total_rec_int',\n",
    "'total_rec_late_fee',\n",
    "'recoveries',\n",
    "'collection_recovery_fee',\n",
    "'total_pymnt',\n",
    "'total_pymnt_inv',\n",
    "'last_pymnt_d',\n",
    "'last_pymnt_amnt']].nunique()"
   ]
  },
  {
   "cell_type": "markdown",
   "id": "0ea93ad8",
   "metadata": {},
   "source": [
    "# Grade and Subgrade - Category of the loan assigned by Lending Club"
   ]
  },
  {
   "cell_type": "markdown",
   "id": "66b87d70",
   "metadata": {},
   "source": [
    "* There is no information on what basis the 'Grade' and 'Subgrade' are allocated to the observations.\n",
    "Analysis will be done to understand if there are any correlated variables."
   ]
  },
  {
   "cell_type": "code",
   "execution_count": null,
   "id": "aa47cda9",
   "metadata": {},
   "outputs": [],
   "source": [
    "print(loan_data.grade.describe())\n",
    "print(loan_data.sub_grade.describe())"
   ]
  },
  {
   "cell_type": "code",
   "execution_count": null,
   "id": "e912be31",
   "metadata": {},
   "outputs": [],
   "source": [
    "# Look at 'grade' and see how LC has assigned this value.\n",
    "loan_data.grade.astype(str)\n",
    "loan_data.sub_grade.astype(str)\n",
    "loan_data.sort_values(by=['grade'])"
   ]
  },
  {
   "cell_type": "code",
   "execution_count": null,
   "id": "18b01b86",
   "metadata": {},
   "outputs": [],
   "source": [
    "# From the above, looks like, there is some relation between 'grade and 'sub-grade'. Sort both of them.\n",
    "loan_data.sort_values(by=['grade','sub_grade'])"
   ]
  },
  {
   "cell_type": "code",
   "execution_count": null,
   "id": "05a41ab7",
   "metadata": {},
   "outputs": [],
   "source": [
    "print((loan_data.grade.unique()))\n",
    "print((loan_data.sub_grade.unique()))"
   ]
  },
  {
   "cell_type": "code",
   "execution_count": null,
   "id": "b0ad7122",
   "metadata": {},
   "outputs": [],
   "source": [
    "#from above it, looks like grade, sub_grade and int_rate are related.\n",
    "print(loan_data.groupby(by=['grade','sub_grade'])['int_rate_f'].median())"
   ]
  },
  {
   "cell_type": "code",
   "execution_count": null,
   "id": "d1ca7f03",
   "metadata": {},
   "outputs": [],
   "source": [
    "# Ok, int_rate is related to grade and sub_grade. Analyse bit further.\n",
    "print(np.sort(loan_data.groupby(by=['grade','sub_grade'])['int_rate_f'].get_group(('A','A1')).unique()))\n",
    "print(np.sort(loan_data.groupby(by=['grade','sub_grade'])['int_rate_f'].get_group(('A','A2')).unique()))\n",
    "print(np.sort(loan_data.groupby(by=['grade','sub_grade'])['int_rate_f'].get_group(('A','A3')).unique()))\n",
    "print(np.sort(loan_data.groupby(by=['grade','sub_grade'])['int_rate_f'].get_group(('A','A4')).unique()))\n",
    "print(np.sort(loan_data.groupby(by=['grade','sub_grade'])['int_rate_f'].get_group(('A','A5')).unique()))\n",
    "\n",
    "print(np.sort(loan_data.groupby(by=['grade','sub_grade'])['int_rate_f'].get_group(('B','B1')).unique()))\n",
    "print(np.sort(loan_data.groupby(by=['grade','sub_grade'])['int_rate_f'].get_group(('B','B2')).unique()))\n",
    "print(np.sort(loan_data.groupby(by=['grade','sub_grade'])['int_rate_f'].get_group(('B','B3')).unique()))\n",
    "print(np.sort(loan_data.groupby(by=['grade','sub_grade'])['int_rate_f'].get_group(('B','B4')).unique()))\n",
    "print(np.sort(loan_data.groupby(by=['grade','sub_grade'])['int_rate_f'].get_group(('B','B5')).unique()))\n"
   ]
  },
  {
   "cell_type": "code",
   "execution_count": null,
   "id": "ec917de9",
   "metadata": {},
   "outputs": [],
   "source": [
    "# Although, there is a clear trend in int_rate and grade/sub_grade, there appears to be some deviation from trend. \n",
    "# Try correlation matrix technique to identify the relation ships.\n",
    "# First, convert grade and subgrade to numerical value\n",
    "\n",
    "sub_grade_map={'A1':11,'A2':12,'A3':13,'A4':14,'A5':15,'B1':21,'B2':22,'B3':23,'B4':24,'B5':25,'C1':31,'C2':32,'C3':33,'C4':34,'C5':35,\n",
    "              'D1':41,'D2':42,'D3':43,'D4':44,'D5':45,'E1':51,'E2':52,'E3':53,'E4':54,'E5':55,'F1':61,'F2':62,'F3':63,'F4':64,'F5':65,\n",
    "              'G1':71,'G2':72,'G3':73,'G4':74,'G5':75}\n",
    "loan_data['sub_grade_numeric']=loan_data['sub_grade'].map(sub_grade_map)"
   ]
  },
  {
   "cell_type": "code",
   "execution_count": null,
   "id": "692b43d0",
   "metadata": {},
   "outputs": [],
   "source": [
    "# Find correlation amoong the most probable variables\n",
    "loan_data_corr=loan_data[['loan_amnt','int_rate_f','sub_grade_numeric','installment','emp_length','annual_inc_log2',\n",
    "                            'dti','funded_amnt']].corr()"
   ]
  },
  {
   "cell_type": "code",
   "execution_count": null,
   "id": "4171e276",
   "metadata": {},
   "outputs": [],
   "source": [
    "fig=plt.figure(figsize=(8, 8), dpi=70, facecolor='w', edgecolor='k')\n",
    "sns.set(style=\"darkgrid\")\n",
    "sns.heatmap(loan_data_corr, annot=True, annot_kws={\"size\": 10})\n",
    "plt.show()"
   ]
  },
  {
   "cell_type": "markdown",
   "id": "f6bc395e",
   "metadata": {},
   "source": [
    "# Observation"
   ]
  },
  {
   "cell_type": "markdown",
   "id": "37259cb8",
   "metadata": {},
   "source": [
    "* From the above , it is clear that int_rate, sub grades and grades are related strongly.\n",
    "* For analysis, we will drop 'Grade' and 'Subgrade' and use Interest.\n"
   ]
  },
  {
   "cell_type": "markdown",
   "id": "53896d0d",
   "metadata": {},
   "source": [
    "# Delete Unnecessary cols"
   ]
  },
  {
   "cell_type": "markdown",
   "id": "296bd1fa",
   "metadata": {},
   "source": [
    "The following are the main assumptions -\n",
    "\n",
    "* Columns that have unique values for each of the observation are dropped.These are system identifiers provided to the applications. For example 'id','member_id'\n",
    "* Columns that do not add any value to the Analysis are dropped, for example - 'last_pymnt_amnt'\n",
    "* Columns that are generally not the cause ( but are effect) of loan status are dropped, for example 'total_rec_prncp'\n",
    "* Columns that are highly correlated to the other variables are dropped for example 'grade','sub_grade','int_rate'\n",
    "* Columns that have been cleaned and derived for example - int_rate_f is derived from int_rate, similarly, 'income verification' and 'source verification' derived from 'verification status'"
   ]
  },
  {
   "cell_type": "code",
   "execution_count": null,
   "id": "4b94aaf9",
   "metadata": {},
   "outputs": [],
   "source": [
    "#Drop columns that do not add any weight to the analysis\n",
    "loan_data.drop(columns=['member_id','funded_amnt_inv','grade','sub_grade','emp_title',\n",
    "                        'issue_d','url','desc','int_rate','open_acc','revol_bal','total_acc',\n",
    "                       'purpose','title','zip_code','addr_state','earliest_cr_line',\n",
    "                       'earliest_cr_line_dt','time_delta','out_prncp','out_prncp_inv','total_pymnt',\n",
    "                       'total_pymnt_inv','total_rec_prncp','total_rec_int','total_rec_late_fee',\n",
    "                       'recoveries','collection_recovery_fee','last_pymnt_amnt','city_code',\n",
    "                        'last_credit_pull_d', 'last_credit_pull_dt','sub_grade_numeric','earliest_cr_line_dt_fine',\n",
    "                       'last_pymnt_d','verification_status'],\n",
    "                        axis=1,inplace=True)"
   ]
  },
  {
   "cell_type": "code",
   "execution_count": null,
   "id": "e8461da4",
   "metadata": {},
   "outputs": [],
   "source": [
    "# Extract fully paid and charged off loans for Segmented analysis\n",
    "loan_data_extract=loan_data[loan_data['loan_status']!='current']\n",
    "# Check Size and print few observations\n",
    "print(loan_data_extract.shape)"
   ]
  },
  {
   "cell_type": "code",
   "execution_count": null,
   "id": "7d0e2344",
   "metadata": {},
   "outputs": [],
   "source": [
    "# Check the missing numbers\n",
    "msno.bar(loan_data_extract)"
   ]
  },
  {
   "cell_type": "markdown",
   "id": "b4747f0c",
   "metadata": {},
   "source": [
    "# Univeriate Analysis and Segmented Analysis"
   ]
  },
  {
   "cell_type": "markdown",
   "id": "a6af71e5",
   "metadata": {},
   "source": [
    "Following the data Cleaning exercise, Univeriate and Segmented Analysis is done. Each Variable is considered\n",
    "at a time and analysis is done. Box plots, Count plot or percentage stacked plot are employed as applicable."
   ]
  },
  {
   "cell_type": "code",
   "execution_count": null,
   "id": "dc9f3861",
   "metadata": {},
   "outputs": [],
   "source": [
    "# Write a function to display subplots of box plot for given variables.\n",
    "def box_plot(k,fx=16,fy=8):\n",
    "    fig=plt.figure(figsize=(fx, fy), dpi=70, facecolor='w', edgecolor='k')\n",
    "    sns.set(style=\"darkgrid\")\n",
    "    i=1\n",
    "    for col in k:\n",
    "        plt.subplot(2,3,i)\n",
    "        sns.boxplot(y=col,\n",
    "                    x='loan_status',\n",
    "                palette='pastel',\n",
    "                data=loan_data_extract)\n",
    "        i=i+1\n",
    "\n",
    "plt.show()"
   ]
  },
  {
   "cell_type": "code",
   "execution_count": null,
   "id": "2bbf17da",
   "metadata": {},
   "outputs": [],
   "source": [
    "# Write a function to display subplots of bar plot for given variables.\n",
    "def count_plot(k,fx=16,fy=8):\n",
    "    fig=plt.figure(figsize=(fx, fy), dpi=90, facecolor='w', edgecolor='k')\n",
    "    sns.set(style=\"darkgrid\")\n",
    "    i=1\n",
    "    for col in k:\n",
    "        plt.subplot(2,3,i)\n",
    "        plt.xticks(rotation='vertical')\n",
    "        ax=sns.countplot(y=col,\n",
    "            data=loan_data_extract,\n",
    "            palette='pastel',\n",
    "            order=loan_data_extract[col].value_counts().index)  \n",
    "        i=i+1\n",
    "    \n",
    "    \n",
    "plt.show()"
   ]
  },
  {
   "cell_type": "code",
   "execution_count": null,
   "id": "e4a9507e",
   "metadata": {},
   "outputs": [],
   "source": [
    "# Write a function to display a percentage stacked plot of passed variable aganist the Loan Status\n",
    "def stacked_plot(a,b,fx=10,fy=8):\n",
    "    x_value=a\n",
    "    labl=b\n",
    "    loan_data_extract_totals=loan_data_extract.groupby(by=[x_value,'loan_status'])['loan_amnt'].count().reset_index()\n",
    "    loan_analysis_totals=pd.pivot_table(loan_data_extract_totals,values='loan_amnt',index=x_value,columns='loan_status').reset_index()\n",
    "    \n",
    "    r = range(len(loan_analysis_totals[x_value]))\n",
    "    \n",
    "    loan_total = [i+j for i,j in zip(loan_analysis_totals['charged off'],loan_analysis_totals['fully paid'])]\n",
    "    loan_chgoff = [0 if j == 0 else i / j * 100 for i,j in zip(loan_analysis_totals['charged off'], loan_total)]\n",
    "    loan_paid = [0 if j == 0 else i / j * 100 for i,j in zip(loan_analysis_totals['fully paid'], loan_total)]\n",
    "     \n",
    "    df_percents=pd.DataFrame({x_value:loan_analysis_totals[x_value],'Charged_off_perc':loan_chgoff,'Fully_paid_p':loan_paid})\n",
    "    #print(df_percents)\n",
    "    \n",
    "    sns.set(style=\"ticks\")\n",
    "    col_mat=['b','r','g','y','c','m']\n",
    "    m=np.random.randint(1,5)\n",
    "    \n",
    "    #ax=df_percents.plot.bar(stacked=True,figsize=(fx,fy),color=sns.color_palette(\"hls\", 8))\n",
    "    ax=df_percents.plot.bar(stacked=True,figsize=(fx,fy),color=[col_mat[m],col_mat[m-1]])\n",
    "    \n",
    "    for p in ax.patches:\n",
    "        width, height = p.get_width(), p.get_height()\n",
    "        x, y = p.get_xy() \n",
    "        if height!=0:\n",
    "            ax.annotate('{:.2f} %'.format(height), (p.get_x()+.25*width, p.get_y()+.5*height),ha='left',va='center',\n",
    "                    rotation='vertical',\n",
    "                    size='smaller')   \n",
    "       \n",
    "    plt.xticks(r,loan_analysis_totals[x_value],rotation='vertical')\n",
    "    plt.xlabel(labl)\n",
    "    plt.legend(loc='best', bbox_to_anchor=(1,1), ncol=1)\n",
    "    plt.show()"
   ]
  },
  {
   "cell_type": "markdown",
   "id": "c2be0c74",
   "metadata": {},
   "source": [
    "# Analyse Loan Amount - The amount customer has requested"
   ]
  },
  {
   "cell_type": "code",
   "execution_count": null,
   "id": "13fe4373",
   "metadata": {},
   "outputs": [],
   "source": [
    "box_plot(['loan_amnt'])"
   ]
  },
  {
   "cell_type": "code",
   "execution_count": null,
   "id": "e27c6dab",
   "metadata": {},
   "outputs": [],
   "source": [
    "# Bin the loan amount into buckets and chart the plots \n",
    "loan_data_extract['loan_amnt_bin_catlg'] = pd.cut(loan_data_extract['loan_amnt'], np.linspace(0, 35000, 8))\n",
    "count_plot(['loan_amnt_bin_catlg'])"
   ]
  },
  {
   "cell_type": "code",
   "execution_count": null,
   "id": "8ace0c15",
   "metadata": {},
   "outputs": [],
   "source": [
    "stacked_plot('loan_amnt_bin_catlg','Loan Amounts vs Loan Status')"
   ]
  },
  {
   "cell_type": "markdown",
   "id": "277ac818",
   "metadata": {},
   "source": [
    "# Observation"
   ]
  },
  {
   "cell_type": "markdown",
   "id": "fa8ddd87",
   "metadata": {},
   "source": [
    "In general, as the loan amount is increasing, the percentage of the charged off loans is increasing.\n",
    "The percentage of Charged off loans is highest for the loam amounts in range 30000 - 35000. But, the number of loans in this category are less.\n",
    "From the count plot, the highest number of loans is for 5000 - 10000, followed by 0 - 5000 and 10000 - 15000. With in top 3 high volume categories, the laons that all with in 0 -5000 are slightly likely to be charged off"
   ]
  },
  {
   "cell_type": "markdown",
   "id": "27977013",
   "metadata": {},
   "source": [
    "# Analyse impact of Funded Amount on Loan Status"
   ]
  },
  {
   "cell_type": "code",
   "execution_count": null,
   "id": "709c454e",
   "metadata": {},
   "outputs": [],
   "source": [
    "box_plot(['funded_amnt'])"
   ]
  },
  {
   "cell_type": "code",
   "execution_count": null,
   "id": "e83da479",
   "metadata": {},
   "outputs": [],
   "source": [
    "# Bin the funded amount and chart the plots\n",
    "loan_data_extract['funded_amnt_bin_catlg'] = pd.cut(loan_data_extract['funded_amnt'], np.linspace(0, 35000, 8))\n",
    "count_plot(['funded_amnt_bin_catlg'])\n",
    "stacked_plot('funded_amnt_bin_catlg','Funded Amount vs Loan Status')"
   ]
  },
  {
   "cell_type": "markdown",
   "id": "a2f8b852",
   "metadata": {},
   "source": [
    "# Observation"
   ]
  },
  {
   "cell_type": "markdown",
   "id": "7bbd5693",
   "metadata": {},
   "source": [
    "The trend of funded Amount closely matches the loan amount. Both these values are stringly correlated."
   ]
  },
  {
   "cell_type": "markdown",
   "id": "185b4554",
   "metadata": {},
   "source": [
    "Note:\n",
    "    \n",
    "    \n",
    "An interesting analysis - check the trend of charged off loans when the funded amount is less than the amount applied for,\n",
    "by the applicant."
   ]
  },
  {
   "cell_type": "code",
   "execution_count": null,
   "id": "19b0b9b5",
   "metadata": {},
   "outputs": [],
   "source": [
    "# Create a flag to indicate if the funded amount is same as Applicant requested Amount\n",
    "loan_data_extract['full_amnt_given'] = np.where(loan_data_extract['loan_amnt'] == loan_data_extract['funded_amnt'], True, False)\n",
    "loan_data_extract['full_amnt_given'] = loan_data_extract['full_amnt_given'].apply(lambda x:'Issued Applied Amount' if x is True else 'Issued Reduced Amount')"
   ]
  },
  {
   "cell_type": "code",
   "execution_count": null,
   "id": "35ac9133",
   "metadata": {},
   "outputs": [],
   "source": [
    "count_plot(['full_amnt_given'])\n",
    "stacked_plot('full_amnt_given','Loan Status percentage when the Issued Amount is less than Applied Amount')"
   ]
  },
  {
   "cell_type": "markdown",
   "id": "3d1724c3",
   "metadata": {},
   "source": [
    "### Observation\n",
    "From the charts, it is evident that applications that have Funded Amount less than the customer applied amount, are marginally likely <br>\n",
    "to be charged off. "
   ]
  },
  {
   "cell_type": "markdown",
   "id": "1d510329",
   "metadata": {},
   "source": [
    "## Term - Tenure of the loan - 36 Months or 60 Months "
   ]
  },
  {
   "cell_type": "code",
   "execution_count": null,
   "id": "c795c2e3",
   "metadata": {},
   "outputs": [],
   "source": [
    "count_plot(['term'])\n",
    "stacked_plot('term','Tenure of Loan vs Loan Status')"
   ]
  },
  {
   "cell_type": "markdown",
   "id": "bd523b48",
   "metadata": {},
   "source": [
    "### Observation \n",
    "Loans with longer tenure have high percentage of Charge Off applications. This indicates that customers who have longer <br>\n",
    "commitments opted charge off due to varying financial circumstances over the time."
   ]
  },
  {
   "cell_type": "markdown",
   "id": "7070ed8c",
   "metadata": {},
   "source": [
    "# Interest Rate of the loan"
   ]
  },
  {
   "cell_type": "code",
   "execution_count": null,
   "id": "231aaeaa",
   "metadata": {},
   "outputs": [],
   "source": [
    "box_plot(['int_rate_f'])"
   ]
  },
  {
   "cell_type": "code",
   "execution_count": null,
   "id": "63626e86",
   "metadata": {},
   "outputs": [],
   "source": [
    "# Bin the Interest Rates into categories and chart the plot.\n",
    "loan_data_extract['int_rate_bin']=pd.cut(loan_data_extract['int_rate_f'], np.linspace(5, 25, 5))"
   ]
  },
  {
   "cell_type": "code",
   "execution_count": null,
   "id": "b3748d13",
   "metadata": {},
   "outputs": [],
   "source": [
    "count_plot(['int_rate_bin'])\n",
    "stacked_plot('int_rate_bin','Interest rates vs Loan Status')"
   ]
  },
  {
   "cell_type": "markdown",
   "id": "b2c510f9",
   "metadata": {},
   "source": [
    "### Observation\n",
    "In general, the higher the interest rate is, the higher is the percentage of Charged off Loans. <br>\n",
    "Loans with in interest rate 10 -15 are most frequent, followed by those with  5-10 and 15-20.<br>\n",
    "However, the percentage of chareged Offs is high in 10-15, followed by 5-10. <br>\n",
    "This analysis evidences, that there is some risk in issuing the High Interest Loans and additional due deligence is required while processing loan applications"
   ]
  },
  {
   "cell_type": "markdown",
   "id": "c881a0a9",
   "metadata": {},
   "source": [
    "## Analyse Dti - Debit to Income Ratio "
   ]
  },
  {
   "cell_type": "code",
   "execution_count": null,
   "id": "3d9db980",
   "metadata": {},
   "outputs": [],
   "source": [
    "# Bin the DTI into categories and chart the plots.\n",
    "loan_data_extract['dti_bin']=pd.cut(loan_data_extract['dti'], np.linspace(0, 30, 7))"
   ]
  },
  {
   "cell_type": "code",
   "execution_count": null,
   "id": "2fd2d60b",
   "metadata": {},
   "outputs": [],
   "source": [
    "box_plot(['dti'])"
   ]
  },
  {
   "cell_type": "code",
   "execution_count": null,
   "id": "494b76aa",
   "metadata": {},
   "outputs": [],
   "source": [
    "count_plot(['dti_bin'])\n",
    "stacked_plot('dti_bin','DTI vs Loan Status')"
   ]
  },
  {
   "cell_type": "markdown",
   "id": "1c49c1bd",
   "metadata": {},
   "source": [
    "### Observation\n",
    "The percentage of charged off loans is increasing as the dti increases.<br>\n",
    "Also, from box plot, it is evident,that dti is higher in charged off loans. <br>\n",
    "While dti in 10-15 is frequent observation, the percentage of charge offs are higher in 15-20. <br>\n",
    "This evidences, that high dti meant a risky loan application."
   ]
  },
  {
   "cell_type": "markdown",
   "id": "c79a6e84",
   "metadata": {},
   "source": [
    "## Analyse Credit History - The difference in the issue date and earliest credit date "
   ]
  },
  {
   "cell_type": "code",
   "execution_count": null,
   "id": "2ceaa0cf",
   "metadata": {},
   "outputs": [],
   "source": [
    "# Bin the calculated credit age and then chart the plot\n",
    "loan_data_extract['time_delta_bin'] = pd.cut(loan_data_extract['time_delta_int'], np.linspace(2, 65, 22))"
   ]
  },
  {
   "cell_type": "code",
   "execution_count": null,
   "id": "40876c29",
   "metadata": {},
   "outputs": [],
   "source": [
    "count_plot(['time_delta_bin'])\n",
    "stacked_plot('time_delta_bin','Credit History in Years vs Loan Status')"
   ]
  },
  {
   "cell_type": "markdown",
   "id": "93e7531f",
   "metadata": {},
   "source": [
    "### Observations\n",
    "There is a mixed trend in the charged off loans when plotted against the credit age. <br>\n",
    "In general, a very low credit age meant, the financial profile of the applicant is not clear. <br>\n",
    "A high credit age meant, the financial profile of the applicant is superseded by the age of the application. <br>\n",
    "This trend is clearly visible in the above percentage stacked plot."
   ]
  },
  {
   "cell_type": "markdown",
   "id": "69460e72",
   "metadata": {},
   "source": [
    "## Analyse Home Ownership Status and its impact on Loan Status"
   ]
  },
  {
   "cell_type": "code",
   "execution_count": null,
   "id": "0659646a",
   "metadata": {},
   "outputs": [],
   "source": [
    "count_plot(['home_ownership'])\n",
    "stacked_plot('home_ownership','Home Ownership status vs Loan Status')"
   ]
  },
  {
   "cell_type": "markdown",
   "id": "9da42037",
   "metadata": {},
   "source": [
    "### Observation\n",
    "The home ownership with 'other' are charging off the loans at higher rate. <br>\n",
    "This shows that 'other' category of the home ownership should be identified as risk. Further checks are required to understand <br>\n",
    "the residency status."
   ]
  },
  {
   "cell_type": "markdown",
   "id": "5f332735",
   "metadata": {},
   "source": [
    "## Analyse Annual Income impact on Loan Status"
   ]
  },
  {
   "cell_type": "code",
   "execution_count": null,
   "id": "9d84d122",
   "metadata": {},
   "outputs": [],
   "source": [
    "#Bin the Annual Income and chart the plots.\n",
    "loan_data_extract['annual_inc_bin'] = pd.cut(loan_data_extract['annual_inc_log2'], np.linspace(10, 23, 5))"
   ]
  },
  {
   "cell_type": "code",
   "execution_count": null,
   "id": "88973b4f",
   "metadata": {},
   "outputs": [],
   "source": [
    "count_plot(['annual_inc_bin'])\n",
    "stacked_plot('annual_inc_bin','Annual Income vs Loan Status')"
   ]
  },
  {
   "cell_type": "markdown",
   "id": "a6392160",
   "metadata": {},
   "source": [
    "### Observation\n",
    "The general trend is, as the annual income increases, the percentage of charged off loans decreases. <br>\n",
    "This is eveident from the fact that loans in the range 16.5 - 19.75 have lower charged off percentage compared to 13.25 - 16.5 <br>\n",
    "which is highly frequent."
   ]
  },
  {
   "cell_type": "markdown",
   "id": "c09880b8",
   "metadata": {},
   "source": [
    "## Analyse Year of Issue and trend of charged off loans"
   ]
  },
  {
   "cell_type": "code",
   "execution_count": null,
   "id": "21218b43",
   "metadata": {},
   "outputs": [],
   "source": [
    "# Extract the year from formatted Issue date and chart the plots for analysis\n",
    "loan_data_extract['issue_date_year']=loan_data_extract['issue_date_dt'].dt.year\n",
    "loan_data_extract['issue_date_year']=loan_data_extract['issue_date_year'].astype(str)\n",
    "count_plot(['issue_date_year'])\n",
    "stacked_plot('issue_date_year','Percentage of loans changed and Defaulted across Years')"
   ]
  },
  {
   "cell_type": "markdown",
   "id": "ce629026",
   "metadata": {},
   "source": [
    "### Observation \n",
    "\n",
    "The number of loans gradually increased from 2007 till 2011 <br>\n",
    "However, the percentage of the charge off loans issued have reduced from 2007 till 2010. <br>\n",
    "In 2011, there is high charge off rate. This could be partly due to number of loans issued. <br> \n",
    "Further analysis will be required to draw any conclusions on this behavior. "
   ]
  },
  {
   "cell_type": "markdown",
   "id": "0c17707a",
   "metadata": {},
   "source": [
    "### Analyse pub_rec - Number of derogatory comments on the credit file"
   ]
  },
  {
   "cell_type": "code",
   "execution_count": null,
   "id": "a1a01213",
   "metadata": {},
   "outputs": [],
   "source": [
    "loan_data_extract.pub_rec=loan_data_extract.pub_rec.astype(str)\n",
    "count_plot(['pub_rec'])\n",
    "stacked_plot('pub_rec','Number of Derogatory comments on the Credit file')"
   ]
  },
  {
   "cell_type": "markdown",
   "id": "4bb5dc91",
   "metadata": {},
   "source": [
    "### Observation\n",
    "\n",
    "It is evident from the above chart that, the higher the derogatory comments are, the higher is the charge off rate."
   ]
  },
  {
   "cell_type": "markdown",
   "id": "5948c1f0",
   "metadata": {},
   "source": [
    "### Analyse pub_rec_bankruptcies - Number of public bankruptcies on the credit file"
   ]
  },
  {
   "cell_type": "code",
   "execution_count": null,
   "id": "da2773bd",
   "metadata": {},
   "outputs": [],
   "source": [
    "count_plot(['pub_rec_bankruptcies'])\n",
    "stacked_plot('pub_rec_bankruptcies','Public Bankruptices vs Loan Status')"
   ]
  },
  {
   "cell_type": "markdown",
   "id": "ca92059f",
   "metadata": {},
   "source": [
    "### Observation\n",
    "It is evident from the above chart that, the higher the bankruptcies are, the higher is the charge off rate."
   ]
  },
  {
   "cell_type": "markdown",
   "id": "533bcaaf",
   "metadata": {},
   "source": [
    "### Analyse Source and Income Verification"
   ]
  },
  {
   "cell_type": "code",
   "execution_count": null,
   "id": "86e26e46",
   "metadata": {},
   "outputs": [],
   "source": [
    "count_plot(['income_verification','source_verification'])\n",
    "stacked_plot('income_verification','Income verification vs Loan status')\n",
    "stacked_plot('source_verification','Source verification vs Loan status')"
   ]
  },
  {
   "cell_type": "markdown",
   "id": "0a3d65ca",
   "metadata": {},
   "source": [
    "### Observation\n",
    "\n",
    "\n",
    "In the analysis of Source Verification, apparently there is no effect on the charged off rate, even though there is stark difference in the counts.<br>\n",
    "In case of Income verification, the charge off rate is higher ,when the income has been verified.<br>\n",
    "This shows, that income verification checks have no effect in case of Risky applications. The income verification process <br>\n",
    "will need to be reviewed."
   ]
  },
  {
   "cell_type": "markdown",
   "id": "9172393a",
   "metadata": {},
   "source": [
    "### Analyse Purpose mentioned by customer on the application"
   ]
  },
  {
   "cell_type": "code",
   "execution_count": null,
   "id": "ba39aa43",
   "metadata": {},
   "outputs": [],
   "source": [
    "count_plot(['purpose_mapped'])\n",
    "stacked_plot('purpose_mapped','Loan Status trend across various purposes')"
   ]
  },
  {
   "cell_type": "markdown",
   "id": "325cd4ec",
   "metadata": {},
   "source": [
    "### Observation\n",
    "In general, the unsecured loans - like the small business loans, followed by educational loans are highly charged off. <br>\n",
    "Debit Consolidation is the most common purpose"
   ]
  },
  {
   "cell_type": "markdown",
   "id": "fa7be21b",
   "metadata": {},
   "source": [
    "### Analyse the employee title diclosure impact on loan status"
   ]
  },
  {
   "cell_type": "code",
   "execution_count": null,
   "id": "fb6a749d",
   "metadata": {},
   "outputs": [],
   "source": [
    "count_plot(['emp_title_provided'])\n",
    "stacked_plot('emp_title_provided','Loan Status percentages vs Disclosure of Employee name')"
   ]
  },
  {
   "cell_type": "markdown",
   "id": "fd49a982",
   "metadata": {},
   "source": [
    "### Observation\n",
    "\n",
    "Apparently, the rate of charged off applications are higher in cases, where the Employee title was not disclosed.<br>\n",
    "However, the 'Not Disclosed' is much less compared to 'Disclosed' category and that could have some bearing on this trend. <br>\n",
    "Further Analysis will be required on Employee title to draw logical conclusions."
   ]
  },
  {
   "cell_type": "markdown",
   "id": "c5388a6e",
   "metadata": {},
   "source": [
    "### Analyse the trend of Inquiries in past 6 months "
   ]
  },
  {
   "cell_type": "code",
   "execution_count": null,
   "id": "0b9b2e67",
   "metadata": {},
   "outputs": [],
   "source": [
    "loan_data_extract.inq_last_6mths=loan_data_extract.inq_last_6mths.astype(str)\n",
    "count_plot(['inq_last_6mths'])\n",
    "stacked_plot('inq_last_6mths','Number of Inquiries vs Loan Status')"
   ]
  },
  {
   "cell_type": "markdown",
   "id": "470e180f",
   "metadata": {},
   "source": [
    "### Observation\n",
    "\n",
    "Considering both the count plot and stacked percentage plot, it is evident that, the higher the number of inquiries, the higher <br>\n",
    "is the rate of charge off.  This parameter shows the desperation of the customer for a credit line."
   ]
  },
  {
   "cell_type": "markdown",
   "id": "b0b6a437",
   "metadata": {},
   "source": [
    "### Analyse the Employment Length vs Loan status"
   ]
  },
  {
   "cell_type": "code",
   "execution_count": null,
   "id": "5dd3d542",
   "metadata": {},
   "outputs": [],
   "source": [
    "loan_data_extract.emp_length=loan_data_extract.emp_length.astype(str)\n",
    "count_plot(['emp_length'])\n",
    "stacked_plot('emp_length','Employee Length vs Loan Status')"
   ]
  },
  {
   "cell_type": "markdown",
   "id": "6fe62485",
   "metadata": {},
   "source": [
    "### Observation\n",
    "\n",
    "There is no clear trend of employment length impact on the charged off rate. Further investigation will be required to study <br>\n",
    "this variable"
   ]
  },
  {
   "cell_type": "markdown",
   "id": "fbdf9c07",
   "metadata": {},
   "source": [
    "### Analyse the trend of Installment across the loan status"
   ]
  },
  {
   "cell_type": "code",
   "execution_count": null,
   "id": "0904840b",
   "metadata": {},
   "outputs": [],
   "source": [
    "box_plot(['installment'])"
   ]
  },
  {
   "cell_type": "code",
   "execution_count": null,
   "id": "acbe0538",
   "metadata": {},
   "outputs": [],
   "source": [
    "#Bin the log of installements into ranges and chart the plots.\n",
    "loan_data_extract['installment_bin'] = pd.cut(np.log2(loan_data_extract['installment']), np.linspace(3.5, 10.5, 8))"
   ]
  },
  {
   "cell_type": "code",
   "execution_count": null,
   "id": "5d0aedce",
   "metadata": {},
   "outputs": [],
   "source": [
    "count_plot(['installment_bin'])\n",
    "stacked_plot('installment_bin','Installement vs Loan Status')"
   ]
  },
  {
   "cell_type": "markdown",
   "id": "0dd391e2",
   "metadata": {},
   "source": [
    "### Observation \n",
    "\n",
    "From both the count plot and stacked plot it is evident that as the instalment increases, the rate of charge off loans increases.<br>\n",
    "Loans with instalments in range 7.5 - 8.5 are common followed by 8.5 - 9.5 and 6.5 - 7.5. <br>\n",
    "Rate of charge off is marginally higher in 8.5 - 9.5"
   ]
  },
  {
   "cell_type": "markdown",
   "id": "d287ffa4",
   "metadata": {},
   "source": [
    "### Analyse Open Account Ratio vs Loan Status"
   ]
  },
  {
   "cell_type": "code",
   "execution_count": null,
   "id": "19950ac0",
   "metadata": {},
   "outputs": [],
   "source": [
    "loan_data_extract['open_acct_ratio_bin'] = pd.cut(loan_data_extract['open_acct_ratio'], np.linspace(0, 1, 6))"
   ]
  },
  {
   "cell_type": "code",
   "execution_count": null,
   "id": "b597f09d",
   "metadata": {},
   "outputs": [],
   "source": [
    "count_plot(['open_acct_ratio_bin'])\n",
    "stacked_plot('open_acct_ratio_bin','Open Account Ration vs Loan Status')"
   ]
  },
  {
   "cell_type": "markdown",
   "id": "3951ed31",
   "metadata": {},
   "source": [
    "### Observation\n",
    "\n",
    "From the above chart, it is evident that Bank is not issuing the loans to applicants who have higher open account ratio. <br>\n",
    "The general trend is, the higher the open account ratio is, the higher the chance of charging off loan"
   ]
  },
  {
   "cell_type": "markdown",
   "id": "7ea93399",
   "metadata": {},
   "source": [
    "### Analyse Revolving Balance Utilization Rate"
   ]
  },
  {
   "cell_type": "code",
   "execution_count": null,
   "id": "641c463d",
   "metadata": {},
   "outputs": [],
   "source": [
    "box_plot(['revol_util'])\n",
    "loan_data_extract['revol_util_bin'] = pd.cut(loan_data_extract['revol_util'], np.linspace(0, 100, 11))\n",
    "count_plot(['revol_util_bin'])\n",
    "stacked_plot('revol_util_bin','Revolving balance trend across Loan status')"
   ]
  },
  {
   "cell_type": "markdown",
   "id": "169f3a8b",
   "metadata": {},
   "source": [
    "### Observation\n",
    "\n",
    "From the box plot and count plot, it is evident that, revolving balance utilization is higher in charged off loans. <br>\n",
    "Customers with considerable revolving balance (40 - 50) are top applicants. They are also having the high percentage of <br>\n",
    "charge off loans compared with applicants with utilization rate less than 40.<br>\n",
    "This general trend is  - the higher the revolving balance utilization rate, the higher is the chance of charging off loan.\n"
   ]
  },
  {
   "cell_type": "markdown",
   "id": "4fe8fa8a",
   "metadata": {},
   "source": [
    "### Analyse Loan trend across the state and Zip Codes"
   ]
  },
  {
   "cell_type": "code",
   "execution_count": null,
   "id": "69d0d61f",
   "metadata": {},
   "outputs": [],
   "source": [
    "count_plot(['state_code'],22,18)"
   ]
  },
  {
   "cell_type": "code",
   "execution_count": null,
   "id": "94ba16d8",
   "metadata": {},
   "outputs": [],
   "source": [
    "stacked_plot('state_code','Loan Status Across States',14,8)"
   ]
  },
  {
   "cell_type": "markdown",
   "id": "a93eb80a",
   "metadata": {},
   "source": [
    "### Observation\n",
    "\n",
    "As per the above state 'CA' has highest number of charged off applications. <br>\n",
    "In terms of percentages, the loans are highly charged off in the state NE,NIU and AE. <br>\n",
    "Observing the number of loans applied from each of these states, it is clear, that the number of applications are less and hence<br>\n",
    "this behavior. Excluding the above outlier behavior, the state with highest charged off percentage is NV - Nevada."
   ]
  },
  {
   "cell_type": "markdown",
   "id": "0ba8704a",
   "metadata": {},
   "source": [
    "### Analyse further on the zip codes and state codes"
   ]
  },
  {
   "cell_type": "code",
   "execution_count": null,
   "id": "f9ec66b9",
   "metadata": {},
   "outputs": [],
   "source": [
    "# take those states and zip codes, that have applciations mroe than 200. Calculate the percentage of charged off loans\n",
    "temp_dataframe=loan_data_extract.groupby(by=['state_code','zip_code_str','loan_status']).count().reset_index()[['state_code','zip_code_str','loan_status','loan_amnt']]\n",
    "temp_dataframe=pd.pivot_table(temp_dataframe,values='loan_amnt',index=['state_code','zip_code_str'],columns=['loan_status']).reset_index()\n",
    "temp_dataframe=temp_dataframe[temp_dataframe['charged off']+temp_dataframe['fully paid'] >= 200]\n",
    "temp_dataframe['charged off perc']=temp_dataframe['charged off']/(temp_dataframe['charged off']+temp_dataframe['fully paid'])*100\n",
    "temp_dataframe=temp_dataframe.sort_values('charged off perc',ascending=False)\n",
    "temp_dataframe.rename(columns={'loan_status':'Cumulative_Count'}, inplace=True)\n",
    "temp_dataframe=temp_dataframe.reset_index().rename(columns={'index':'Counts'})\n",
    "temp_dataframe"
   ]
  },
  {
   "cell_type": "markdown",
   "id": "080f9330",
   "metadata": {},
   "source": [
    "### Observation\n",
    "\n",
    "So with in a state , based on the urban area, the percentage of the defaulted loans is varying. <br> \n",
    "For example, with in 'FL' the zip code 331 has highest percentage of the defaulters."
   ]
  },
  {
   "cell_type": "markdown",
   "id": "39cce991",
   "metadata": {},
   "source": [
    "### Analyse the observations using the variable  'delinq_2yrs' "
   ]
  },
  {
   "cell_type": "code",
   "execution_count": null,
   "id": "ffe982b5",
   "metadata": {},
   "outputs": [],
   "source": [
    "loan_data_extract.delinq_2yrs=loan_data_extract.delinq_2yrs.astype(str)"
   ]
  },
  {
   "cell_type": "code",
   "execution_count": null,
   "id": "1131c529",
   "metadata": {},
   "outputs": [],
   "source": [
    "count_plot(['delinq_2yrs'])\n",
    "stacked_plot('delinq_2yrs','Trend of delinq_2yrs vs Loan status')"
   ]
  },
  {
   "cell_type": "markdown",
   "id": "cbe94988",
   "metadata": {},
   "source": [
    "### Observation\n",
    "\n",
    "\n",
    "In general, LC is not accepting the customers with higher count of 'delinq_2years'. <br>\n",
    "('delinq_2years' - Denotes how many 30+ days past with the incidences of delinquency  in last 2 years) <br>\n",
    "The general trend is, as the count of variable increases, the percentage of charged off loans increases. <br>\n",
    "There is a definite chance of charging off loan when the delinq_2years is high. Additional checks are required to understand <br>\n",
    "the financial profile of the applicant in such cases. "
   ]
  },
  {
   "cell_type": "markdown",
   "id": "57ce16c5",
   "metadata": {},
   "source": [
    "## Bivariate Analysis"
   ]
  },
  {
   "cell_type": "code",
   "execution_count": null,
   "id": "0b61f36b",
   "metadata": {},
   "outputs": [],
   "source": [
    "#Extract charged off loans to a seperate Dataframe\n",
    "loan_data_extract_chgoff=loan_data_extract[loan_data_extract['loan_status']=='charged off']"
   ]
  },
  {
   "cell_type": "markdown",
   "id": "129f2ab5",
   "metadata": {},
   "source": [
    "### Analyse the DTI ratio and Verification Status"
   ]
  },
  {
   "cell_type": "code",
   "execution_count": null,
   "id": "40bdca93",
   "metadata": {},
   "outputs": [],
   "source": [
    "# Chart the plots grouping verification status and loan staus and take median of dti\n",
    "fig=plt.figure(figsize=(6, 6), dpi=90, facecolor='w', edgecolor='k')\n",
    "sns.set(style=\"darkgrid\")\n",
    "sns.barplot(y='dti',x='income_verification',hue='loan_status',\n",
    "            palette='pastel',\n",
    "            data=loan_data_extract.groupby(by=['income_verification','loan_status'])['dti'].median().reset_index())\n",
    "plt.legend(loc='lower left')\n",
    "plt.show()"
   ]
  },
  {
   "cell_type": "markdown",
   "id": "d60636f7",
   "metadata": {},
   "source": [
    "#### Observation\n",
    "From the above it is clear, that in the cases, where Debt to Income ratio is high, the income_verification is not playing a role.\n",
    "In such cases, verification process should be improved to assess the application. "
   ]
  },
  {
   "cell_type": "markdown",
   "id": "6218c6e4",
   "metadata": {},
   "source": [
    "### Check how the average DTI acorss the states"
   ]
  },
  {
   "cell_type": "code",
   "execution_count": null,
   "id": "58d9614c",
   "metadata": {},
   "outputs": [],
   "source": [
    "fig=plt.figure(figsize=(14,8), dpi=70, facecolor='w', edgecolor='k')\n",
    "sns.set(style=\"ticks\")\n",
    "sns.set(style=\"whitegrid\")\n",
    "sns.barplot(x='state_code', y='dti',data=loan_data_extract)"
   ]
  },
  {
   "cell_type": "markdown",
   "id": "03cd0353",
   "metadata": {},
   "source": [
    "### Observation\n",
    "\n",
    "The Debit to Income ratio spread across the states. <br>\n",
    "This shows that the error is higher in the state 'NE' that has highest percentage of chanrged off loans. <br>\n",
    "The error is minimal in NV."
   ]
  },
  {
   "cell_type": "markdown",
   "id": "9a9438f3",
   "metadata": {},
   "source": [
    "### Analyse the relation between loan status, home ownership and  dti."
   ]
  },
  {
   "cell_type": "code",
   "execution_count": null,
   "id": "84e506cf",
   "metadata": {},
   "outputs": [],
   "source": [
    "# Chart the plots grouping home owner ship and loan staus and take median of dti\n",
    "fig=plt.figure(figsize=(6, 6), dpi=90, facecolor='w', edgecolor='k')\n",
    "sns.set(style=\"darkgrid\")\n",
    "sns.barplot(y='dti',x='home_ownership',hue='loan_status',\n",
    "            palette='pastel',\n",
    "            data=loan_data_extract.groupby(by=['home_ownership','loan_status'])['dti'].median().reset_index())\n",
    "plt.legend(loc='lower left')\n",
    "plt.show()"
   ]
  },
  {
   "cell_type": "markdown",
   "id": "bc864489",
   "metadata": {},
   "source": [
    "### Observation\n",
    "If the DTI is higher and the home ownership is 'own', then the percentage of defaulting loan is higher. "
   ]
  },
  {
   "cell_type": "markdown",
   "id": "da56dc48",
   "metadata": {},
   "source": [
    "### Determine any correlations from the heat map"
   ]
  },
  {
   "cell_type": "code",
   "execution_count": null,
   "id": "9061164f",
   "metadata": {},
   "outputs": [],
   "source": [
    "fig=plt.figure(figsize=(14, 12), dpi=50, facecolor='w', edgecolor='k')\n",
    "sns.set(style=\"ticks\", palette=\"pastel\")\n",
    "ax = sns.heatmap(loan_data_extract.corr(),annot=True)\n"
   ]
  },
  {
   "cell_type": "markdown",
   "id": "1eb7013a",
   "metadata": {},
   "source": [
    "### Analyse Annual income vs interest rate impact on the Charged off loans"
   ]
  },
  {
   "cell_type": "code",
   "execution_count": null,
   "id": "238d3278",
   "metadata": {},
   "outputs": [],
   "source": [
    "charged_off_income_vs_interest = pd.pivot_table(loan_data_extract_chgoff, \n",
    "                                           values='id', \n",
    "                                           index=[pd.cut(np.log10(loan_data_extract_chgoff['annual_inc']), np.linspace(3, 7, 5))], \n",
    "                                           columns=[pd.cut(loan_data_extract_chgoff['int_rate_f'], np.linspace(5, 25, 5))], \n",
    "                                           aggfunc='count', \n",
    "                                           dropna=False, \n",
    "                                           fill_value=0)\n",
    "\n",
    "total_income_vs_interest = pd.pivot_table(loan_data_extract,\n",
    "                                          values='id', \n",
    "                                           index=[pd.cut(np.log10(loan_data_extract['annual_inc']), np.linspace(3, 7, 5))], \n",
    "                                           columns=[pd.cut(loan_data_extract['int_rate_f'], np.linspace(5, 25, 5))], \n",
    "                                           aggfunc='count', \n",
    "                                           dropna=False, \n",
    "                                           fill_value=0)\n",
    "\n",
    "charged_off_ratio_income_vs_interest = charged_off_income_vs_interest / total_income_vs_interest * 100\n",
    "#charged_off_ratio_income_vs_interest.sort_index()\n",
    "charged_off_ratio_income_vs_interest.plot(kind='bar')"
   ]
  },
  {
   "cell_type": "markdown",
   "id": "c75a95c8",
   "metadata": {},
   "source": [
    "### Observation\n",
    "It is evident that - \n",
    " - For same interest rate, charge off rate decreases with increase in annual income\n",
    " - For same income, charge off increases with increase in interest rate"
   ]
  },
  {
   "cell_type": "markdown",
   "id": "0206d5d5",
   "metadata": {},
   "source": [
    "## Analyse the effect of DTI and Interest Rates vs Loan status"
   ]
  },
  {
   "cell_type": "code",
   "execution_count": null,
   "id": "82cdec7e",
   "metadata": {},
   "outputs": [],
   "source": [
    "charged_off_dti_vs_interest = pd.pivot_table(loan_data_extract_chgoff, \n",
    "                                             values='id', \n",
    "                                             index=[pd.cut(loan_data_extract_chgoff['dti'], np.linspace(0, 30, 7))], \n",
    "                                             columns=[pd.cut(loan_data_extract_chgoff['int_rate_f'], np.linspace(5, 25, 5))], \n",
    "                                             aggfunc='count', \n",
    "                                             dropna=False, \n",
    "                                             fill_value=0)\n",
    "\n",
    "total_dti_vs_interest = pd.pivot_table(loan_data_extract, \n",
    "                                       values='id', \n",
    "                                       index=[pd.cut(loan_data_extract['dti'], np.linspace(0, 30, 7))], \n",
    "                                       columns=[pd.cut(loan_data_extract['int_rate_f'], np.linspace(5, 25, 5))], \n",
    "                                       aggfunc='count', \n",
    "                                       dropna=False, \n",
    "                                       fill_value=0)\n",
    "\n",
    "charged_off_ratio_dti_vs_interest = charged_off_dti_vs_interest / total_dti_vs_interest * 100\n",
    "#charged_off_ratio_dti_vs_interest.sort_index()\n",
    "charged_off_ratio_dti_vs_interest.plot(kind='bar',figsize=(6,6))"
   ]
  },
  {
   "cell_type": "markdown",
   "id": "7897ef0c",
   "metadata": {},
   "source": [
    "### Observation\n",
    "Apparently, for the same dti, higher interest rates result in more charge-offs<br>\n",
    "Higher interest rates have significant impact on charge offs"
   ]
  },
  {
   "cell_type": "markdown",
   "id": "ea2e8268",
   "metadata": {},
   "source": [
    "## Annual income vs DTI"
   ]
  },
  {
   "cell_type": "code",
   "execution_count": null,
   "id": "4a09ea46",
   "metadata": {},
   "outputs": [],
   "source": [
    "charged_off_income_vs_dti = pd.pivot_table(loan_data_extract_chgoff, \n",
    "                                        values='id', \n",
    "                                        index=[pd.cut(np.log10(loan_data_extract_chgoff['annual_inc']), np.linspace(3, 7, 5))], \n",
    "                                        columns=[pd.cut(loan_data_extract_chgoff['dti'], np.linspace(0, 30, 7))], \n",
    "                                        aggfunc='count', \n",
    "                                        dropna=False, \n",
    "                                        fill_value=0)\n",
    "\n",
    "total_income_vs_dti = pd.pivot_table(loan_data_extract, values='id', \n",
    "                                           index=[pd.cut(np.log10(loan_data_extract['annual_inc']), np.linspace(3, 7, 5))], \n",
    "                                           columns=[pd.cut(loan_data_extract['dti'], np.linspace(0, 30, 7))], \n",
    "                                           aggfunc='count', \n",
    "                                           dropna=False, \n",
    "                                           fill_value=0)\n",
    "\n",
    "charged_off_ratio_income_vs_dti = charged_off_income_vs_dti / total_income_vs_dti * 100\n",
    "#charged_off_ratio_income_vs_dti.sort_index()\n",
    "charged_off_ratio_income_vs_dti.plot(kind='bar',figsize=(6,6))"
   ]
  },
  {
   "cell_type": "markdown",
   "id": "46e7e29e",
   "metadata": {},
   "source": [
    "### Observation\n",
    "- Charge off increases when DTI increases for same annual income\n",
    "- Charge off decrease when salary increase for same annual income"
   ]
  },
  {
   "cell_type": "markdown",
   "id": "6d6d7baf",
   "metadata": {},
   "source": [
    "### Analyse the Relationship of employment length/title Disclosure and Income Verification vs loan status"
   ]
  },
  {
   "cell_type": "code",
   "execution_count": null,
   "id": "97721c3a",
   "metadata": {},
   "outputs": [],
   "source": [
    "loan_data_extract['emp_length_disclosed'] = np.where(loan_data_extract['emp_length'] == 'Not Disclosed', False, True)\n",
    "loan_data_extract_chgoff['emp_length_disclosed'] = np.where(loan_data_extract_chgoff['emp_length'] == 'Not Disclosed', False, True)"
   ]
  },
  {
   "cell_type": "code",
   "execution_count": null,
   "id": "cdad6363",
   "metadata": {},
   "outputs": [],
   "source": [
    "charged_off_rogue = pd.pivot_table(loan_data_extract_chgoff, \n",
    "                                   values='id', \n",
    "                                   index=['emp_length_disclosed','emp_title_provided'], \n",
    "                                   columns=['income_verification'], \n",
    "                                   aggfunc='count', \n",
    "                                   dropna=False, \n",
    "                                   fill_value=0)\n",
    "\n",
    "total_rogue = pd.pivot_table(loan_data_extract, \n",
    "                             values='id', \n",
    "                             index=['emp_length_disclosed','emp_title_provided'], \n",
    "                             columns=['income_verification'], \n",
    "                             aggfunc='count', \n",
    "                             dropna=False, \n",
    "                             fill_value=0)\n",
    "\n",
    "charged_off_rogue = charged_off_rogue / total_rogue * 100\n",
    "#charged_off_rogue\n",
    "charged_off_rogue.plot(kind='bar',figsize=(6,6))"
   ]
  },
  {
   "cell_type": "markdown",
   "id": "bc4c93ea",
   "metadata": {},
   "source": [
    "### Observation\n",
    " - When employment length is disclosed and employment title is provided, charge offs are less\n",
    " - When employment title is provided and income is verified, charge offs are less\n",
    " - All other combination have a relatively high charge-off\n",
    "\n",
    "It is good to have employee title for income verification (self employed and own business need more scrutiny). Additionally, \n",
    "when employment title is provided employment length should be expected. This will allow a higher scrutiny."
   ]
  },
  {
   "cell_type": "code",
   "execution_count": null,
   "id": "8711ea27",
   "metadata": {},
   "outputs": [],
   "source": []
  },
  {
   "cell_type": "code",
   "execution_count": null,
   "id": "d14ffba4",
   "metadata": {},
   "outputs": [],
   "source": []
  }
 ],
 "metadata": {
  "kernelspec": {
   "display_name": "Python 3 (ipykernel)",
   "language": "python",
   "name": "python3"
  },
  "language_info": {
   "codemirror_mode": {
    "name": "ipython",
    "version": 3
   },
   "file_extension": ".py",
   "mimetype": "text/x-python",
   "name": "python",
   "nbconvert_exporter": "python",
   "pygments_lexer": "ipython3",
   "version": "3.10.5"
  }
 },
 "nbformat": 4,
 "nbformat_minor": 5
}
